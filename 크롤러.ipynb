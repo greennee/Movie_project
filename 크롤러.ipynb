{
 "cells": [
  {
   "cell_type": "code",
   "execution_count": 1,
   "metadata": {},
   "outputs": [],
   "source": [
    "import numpy as np\n",
    "import pandas as pd\n",
    "import matplotlib.pyplot as plt\n",
    "\n",
    "from urllib.request import urlopen\n",
    "from bs4 import BeautifulSoup\n",
    "from selenium import webdriver\n",
    "import time\n",
    "import requests\n",
    "\n",
    "import re"
   ]
  },
  {
   "cell_type": "markdown",
   "metadata": {},
   "source": [
    "# 네이버 영화 감독 정보 크롤링"
   ]
  },
  {
   "cell_type": "code",
   "execution_count": 2,
   "metadata": {},
   "outputs": [],
   "source": [
    "# 링크 접속\n",
    "def url_search(movie_name):\n",
    "    url1 = \"https://movie.naver.com/movie/search/result.naver?query={}&section=all&ie=utf8\".format(movie_name)\n",
    "    html1 = requests.get(url1)\n",
    "    soup1 = BeautifulSoup(html1.text, 'html.parser')\n",
    "    \n",
    "    return soup1"
   ]
  },
  {
   "cell_type": "code",
   "execution_count": 3,
   "metadata": {},
   "outputs": [],
   "source": [
    "# href 태그 찾기\n",
    "\n",
    "def href_tag(soup1):\n",
    "\n",
    "    tag_search_list1 = soup1.find(\"ul\", class_ = \"search_list_1\")\n",
    "    \n",
    "    if bool(tag_search_list1) == True:\n",
    "        tag_a = soup1.select('div#old_content > ul.search_list_1 > li > p.result_thumb > a')\n",
    "        global href\n",
    "        for i in tag_a:\n",
    "            href = i.attrs['href']\n",
    "    \n",
    "        return href\n",
    "    \n",
    "    else:\n",
    "        return \"없음\"\n",
    "    "
   ]
  },
  {
   "cell_type": "code",
   "execution_count": 4,
   "metadata": {},
   "outputs": [],
   "source": [
    "def href_tag_2(soup1):\n",
    "\n",
    "    tag_search_list1 = soup1.find(\"ul\", class_ = \"search_list_1\")\n",
    "    \n",
    "    if bool(tag_search_list1) == True:\n",
    "        tag_li = soup1.find_all('li')\n",
    "        if bool(tag_li) is True:\n",
    "            for li in tag_li:\n",
    "                tag_dl = soup1.find_all('dl')\n",
    "\n",
    "                \n",
    "                \n",
    "            return tag_dl\n",
    "        \n",
    "# h1 = soup.html.body.h1 "
   ]
  },
  {
   "cell_type": "code",
   "execution_count": 8,
   "metadata": {},
   "outputs": [],
   "source": [
    "# 이 부분 결과값을 정규표현식으로 원하는 정보를 가져오고 싶다.\n",
    "# ex) \"'대부 : 끝나지 않은 이야기 (Les Lyonnais)7.02 (참여 47명)범죄', ' 액션\", ' 프랑스', '102분 ', '2011감독 : 올리비에르 마샬', \"출연 : 제랄드 랑뱅', ' 체키 카료'\"\n",
    "# 예로 위의 문자열을 영화제목, 액션, 프랑스, 2011, 감독이름, 배우이름 이렇게...\n",
    "\n",
    "def dt(href):\n",
    "    list_a = []\n",
    "    list_b = []\n",
    "    for dt in href:\n",
    "        dt = str(dt.get_text())\n",
    "        list_a.append(dt)\n",
    "        \n",
    "    for info in list_a:\n",
    "        info_1 = str(info.split(\",\")).replace('\\\\n', '')\n",
    "        info_2 = str(info_1.split('|'))\n",
    "        info_3 = info_2.replace('[', '')\n",
    "        info_4 = info_3.replace(']', '')\n",
    "        \n",
    "        list_b.append(info_4)\n",
    "\n",
    "    return list_b"
   ]
  },
  {
   "cell_type": "code",
   "execution_count": 9,
   "metadata": {
    "scrolled": true
   },
   "outputs": [
    {
     "name": "stdout",
     "output_type": "stream",
     "text": [
      "\"'대부 : 끝나지 않은 이야기 (Les Lyonnais)7.02 (참여 47명)범죄', ' 액션\", ' 프랑스', '102분 ', '2011감독 : 올리비에르 마샬', \"출연 : 제랄드 랑뱅', ' 체키 카료'\"\n"
     ]
    }
   ],
   "source": [
    "soup1 = url_search('대부')\n",
    "\n",
    "href = href_tag_2(soup1)\n",
    "\n",
    "dt = dt(href)\n",
    "# soup2 = find_link(href)\n",
    "\n",
    "# find_dir = dd_tag(soup2)\n",
    "\n",
    "# director = find_director(find_dir)\n",
    "\n",
    "print(dt[0])"
   ]
  },
  {
   "cell_type": "code",
   "execution_count": 35,
   "metadata": {},
   "outputs": [],
   "source": [
    "# 해당 페이지 링크 가져오기\n",
    "\n",
    "def find_link(href):\n",
    "    \n",
    "    if href != \"없음\":\n",
    "        url2 = \"https://movie.naver.com{}\".format(href)\n",
    "        html2 = requests.get(url2)\n",
    "        soup2 = BeautifulSoup(html2.text, 'html.parser')\n",
    "    \n",
    "        return soup2\n",
    "    \n",
    "    else:\n",
    "        return \"없음\""
   ]
  },
  {
   "cell_type": "code",
   "execution_count": 36,
   "metadata": {},
   "outputs": [],
   "source": [
    "# dd 태그 찾기\n",
    "\n",
    "def dd_tag(soup2):\n",
    "    \n",
    "    if soup2 != \"없음\":\n",
    "        find_dir = soup2.find_all('dd')\n",
    "    \n",
    "        return find_dir\n",
    "    \n",
    "    else:\n",
    "        return \"없음\""
   ]
  },
  {
   "cell_type": "code",
   "execution_count": 37,
   "metadata": {},
   "outputs": [],
   "source": [
    "# director 찾기\n",
    "def find_director(find_dir):\n",
    "    \n",
    "    if find_dir != \"없음\":\n",
    "        words = []\n",
    "    \n",
    "        for i in find_dir:\n",
    "            i = i.get_text()\n",
    "            tmp = []\n",
    "            tmp.append(i)\n",
    "        \n",
    "            for w in tmp:\n",
    "                w = w.strip('\\n')\n",
    "                words.append(w)\n",
    "                director = words[0].split(',')[0]\n",
    "        \n",
    "            return director\n",
    "    \n",
    "    else:\n",
    "        return \"없음\"\n",
    "            "
   ]
  },
  {
   "cell_type": "code",
   "execution_count": 41,
   "metadata": {},
   "outputs": [
    {
     "name": "stdout",
     "output_type": "stream",
     "text": [
      "['케이트 쇼트랜드', '데이비드 파운트니', '브루노 마테이']\n"
     ]
    }
   ],
   "source": [
    "# movie_names = list(nan_directors['영화명'][:10])\n",
    "\n",
    "def directors(movie_names):\n",
    "    \n",
    "    directors = []\n",
    "\n",
    "    for movie_name in movie_names:\n",
    "        time.sleep(0.5)\n",
    "        soup1 = url_search(movie_name)\n",
    "\n",
    "        href = href_tag(soup1)\n",
    "\n",
    "        soup2 = find_link(href)\n",
    "\n",
    "        find_dir = dd_tag(soup2)\n",
    "\n",
    "        director = find_director(find_dir)\n",
    "\n",
    "        directors.append(director)\n",
    "\n",
    "    return directors\n",
    "\n",
    "        \n",
    "print(directors(['블랙 위도우 2021', '마술피리 2014', '코만도']))"
   ]
  },
  {
   "cell_type": "code",
   "execution_count": null,
   "metadata": {},
   "outputs": [],
   "source": []
  },
  {
   "cell_type": "code",
   "execution_count": null,
   "metadata": {},
   "outputs": [],
   "source": []
  },
  {
   "cell_type": "code",
   "execution_count": null,
   "metadata": {},
   "outputs": [],
   "source": []
  },
  {
   "cell_type": "code",
   "execution_count": null,
   "metadata": {},
   "outputs": [],
   "source": []
  },
  {
   "cell_type": "code",
   "execution_count": null,
   "metadata": {},
   "outputs": [],
   "source": []
  },
  {
   "cell_type": "code",
   "execution_count": null,
   "metadata": {},
   "outputs": [],
   "source": []
  },
  {
   "cell_type": "code",
   "execution_count": 3,
   "metadata": {},
   "outputs": [],
   "source": [
    "# 네이버 영화 감독 정보 크롤링\n",
    "\n",
    "# 링크 접속\n",
    "def url_search(movie_name):\n",
    "    url1 = \"https://movie.naver.com/movie/search/result.naver?query={}&section=all&ie=utf8\".format(movie_name)\n",
    "    html1 = requests.get(url1)\n",
    "    soup1 = BeautifulSoup(html1.text, 'html.parser')\n",
    "    \n",
    "    return soup1\n",
    "\n",
    "# href 태그 찾기\n",
    "\n",
    "def href_tag(soup1):\n",
    "\n",
    "    tag_search_list1 = soup1.find(\"ul\", class_ = \"search_list_1\")\n",
    "    \n",
    "    if bool(tag_search_list1) == True:\n",
    "        tag_a = soup1.select('div#old_content > ul.search_list_1 > li > p.result_thumb > a')\n",
    "        global href\n",
    "        for i in tag_a:\n",
    "            href = i.attrs['href']\n",
    "    \n",
    "        return href\n",
    "    \n",
    "    else:\n",
    "        return \"없음\"\n",
    "    \n",
    "\n",
    "# 해당 페이지 링크 가져오기\n",
    "\n",
    "def find_link(href):\n",
    "    \n",
    "    if href != \"없음\":\n",
    "        url2 = \"https://movie.naver.com{}\".format(href)\n",
    "        html2 = requests.get(url2)\n",
    "        soup2 = BeautifulSoup(html2.text, 'html.parser')\n",
    "    \n",
    "        return soup2\n",
    "    \n",
    "    else:\n",
    "        return \"없음\"\n",
    "\n",
    "# dd 태그 찾기\n",
    "\n",
    "def dd_tag(soup2):\n",
    "    \n",
    "    if soup2 != \"없음\":\n",
    "        find_dir = soup2.find_all('dd')\n",
    "    \n",
    "        return find_dir\n",
    "    \n",
    "    else:\n",
    "        return \"없음\"\n",
    "\n",
    "# director 찾기\n",
    "def find_director(find_dir):\n",
    "    \n",
    "    if find_dir != \"없음\":\n",
    "        words = []\n",
    "    \n",
    "        for i in find_dir:\n",
    "            i = i.get_text()\n",
    "            tmp = []\n",
    "            tmp.append(i)\n",
    "        \n",
    "            for w in tmp:\n",
    "                w = w.strip('\\n')\n",
    "                words.append(w)\n",
    "                director = words[0].split(',')[0]\n",
    "        \n",
    "            return director\n",
    "    \n",
    "    else:\n",
    "        return \"없음\"\n",
    "            # 링크 접속\n",
    "def url_search(movie_name):\n",
    "    url1 = \"https://movie.naver.com/movie/search/result.naver?query={}&section=all&ie=utf8\".format(movie_name)\n",
    "    html1 = requests.get(url1)\n",
    "    soup1 = BeautifulSoup(html1.text, 'html.parser')\n",
    "    \n",
    "    return soup1"
   ]
  },
  {
   "cell_type": "code",
   "execution_count": 2,
   "metadata": {},
   "outputs": [],
   "source": [
    "def href_tag(soup1):\n",
    "\n",
    "    tag_search_list1 = soup1.find(\"ul\", class_ = \"search_list_1\")\n",
    "    \n",
    "    if bool(tag_search_list1) == True:\n",
    "        tag_a = soup1.select('div#old_content > ul.search_list_1 > li > p.result_thumb > a')\n",
    "        global href\n",
    "        for i in tag_a:\n",
    "            href = i.attrs['href']\n",
    "    \n",
    "        return href\n",
    "    \n",
    "    else:\n",
    "        return \"없음\""
   ]
  },
  {
   "cell_type": "code",
   "execution_count": 28,
   "metadata": {
    "scrolled": true
   },
   "outputs": [
    {
     "data": {
      "text/plain": [
       "True"
      ]
     },
     "execution_count": 28,
     "metadata": {},
     "output_type": "execute_result"
    }
   ],
   "source": [
    "soup1 = url_search('블랙 위도우')\n",
    "\n",
    "tag_search_list1 = soup1.find(\"ul\", class_ = \"search_list_1\")\n",
    "bool(tag_search_list1)"
   ]
  },
  {
   "cell_type": "code",
   "execution_count": null,
   "metadata": {},
   "outputs": [],
   "source": []
  },
  {
   "cell_type": "code",
   "execution_count": null,
   "metadata": {},
   "outputs": [],
   "source": []
  },
  {
   "cell_type": "code",
   "execution_count": null,
   "metadata": {},
   "outputs": [],
   "source": []
  },
  {
   "cell_type": "code",
   "execution_count": null,
   "metadata": {},
   "outputs": [],
   "source": []
  },
  {
   "cell_type": "code",
   "execution_count": null,
   "metadata": {},
   "outputs": [],
   "source": []
  },
  {
   "cell_type": "code",
   "execution_count": null,
   "metadata": {},
   "outputs": [],
   "source": []
  },
  {
   "cell_type": "code",
   "execution_count": null,
   "metadata": {},
   "outputs": [],
   "source": []
  },
  {
   "cell_type": "code",
   "execution_count": null,
   "metadata": {},
   "outputs": [],
   "source": []
  },
  {
   "cell_type": "code",
   "execution_count": null,
   "metadata": {},
   "outputs": [],
   "source": []
  },
  {
   "cell_type": "code",
   "execution_count": null,
   "metadata": {},
   "outputs": [],
   "source": []
  },
  {
   "cell_type": "code",
   "execution_count": null,
   "metadata": {},
   "outputs": [],
   "source": []
  },
  {
   "cell_type": "code",
   "execution_count": null,
   "metadata": {},
   "outputs": [],
   "source": []
  },
  {
   "cell_type": "code",
   "execution_count": null,
   "metadata": {},
   "outputs": [],
   "source": []
  },
  {
   "cell_type": "code",
   "execution_count": null,
   "metadata": {},
   "outputs": [],
   "source": []
  },
  {
   "cell_type": "code",
   "execution_count": null,
   "metadata": {},
   "outputs": [],
   "source": []
  },
  {
   "cell_type": "code",
   "execution_count": null,
   "metadata": {},
   "outputs": [],
   "source": []
  },
  {
   "cell_type": "code",
   "execution_count": null,
   "metadata": {},
   "outputs": [],
   "source": []
  },
  {
   "cell_type": "code",
   "execution_count": null,
   "metadata": {},
   "outputs": [],
   "source": []
  },
  {
   "cell_type": "code",
   "execution_count": null,
   "metadata": {},
   "outputs": [],
   "source": []
  },
  {
   "cell_type": "code",
   "execution_count": null,
   "metadata": {},
   "outputs": [],
   "source": []
  },
  {
   "cell_type": "code",
   "execution_count": null,
   "metadata": {},
   "outputs": [],
   "source": []
  },
  {
   "cell_type": "code",
   "execution_count": null,
   "metadata": {},
   "outputs": [],
   "source": []
  },
  {
   "cell_type": "code",
   "execution_count": null,
   "metadata": {},
   "outputs": [],
   "source": []
  },
  {
   "cell_type": "code",
   "execution_count": null,
   "metadata": {},
   "outputs": [],
   "source": []
  },
  {
   "cell_type": "code",
   "execution_count": null,
   "metadata": {},
   "outputs": [],
   "source": []
  },
  {
   "cell_type": "code",
   "execution_count": null,
   "metadata": {},
   "outputs": [],
   "source": []
  },
  {
   "cell_type": "code",
   "execution_count": null,
   "metadata": {},
   "outputs": [],
   "source": []
  },
  {
   "cell_type": "code",
   "execution_count": null,
   "metadata": {},
   "outputs": [],
   "source": []
  },
  {
   "cell_type": "code",
   "execution_count": null,
   "metadata": {},
   "outputs": [],
   "source": []
  }
 ],
 "metadata": {
  "kernelspec": {
   "display_name": "Python 3",
   "language": "python",
   "name": "python3"
  },
  "language_info": {
   "codemirror_mode": {
    "name": "ipython",
    "version": 3
   },
   "file_extension": ".py",
   "mimetype": "text/x-python",
   "name": "python",
   "nbconvert_exporter": "python",
   "pygments_lexer": "ipython3",
   "version": "3.7.6"
  }
 },
 "nbformat": 4,
 "nbformat_minor": 4
}
