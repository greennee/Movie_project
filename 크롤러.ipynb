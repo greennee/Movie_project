{
 "cells": [
  {
   "cell_type": "code",
   "execution_count": 1,
   "metadata": {},
   "outputs": [],
   "source": [
    "import numpy as np\n",
    "import pandas as pd\n",
    "import matplotlib.pyplot as plt\n",
    "\n",
    "from urllib.request import urlopen\n",
    "from bs4 import BeautifulSoup\n",
    "from selenium import webdriver\n",
    "import time\n",
    "import requests\n",
    "\n",
    "import re"
   ]
  },
  {
   "cell_type": "markdown",
   "metadata": {},
   "source": [
    "# 네이버 영화 감독 정보 크롤링"
   ]
  },
  {
   "cell_type": "code",
   "execution_count": 33,
   "metadata": {},
   "outputs": [],
   "source": [
    "# 링크 접속\n",
    "def url_search(movie_name):\n",
    "    url1 = \"https://movie.naver.com/movie/search/result.naver?query={}&section=all&ie=utf8\".format(movie_name)\n",
    "    html1 = requests.get(url1)\n",
    "    soup1 = BeautifulSoup(html1.text, 'html.parser')\n",
    "    \n",
    "    return soup1"
   ]
  },
  {
   "cell_type": "code",
   "execution_count": 34,
   "metadata": {},
   "outputs": [],
   "source": [
    "# href 태그 찾기\n",
    "\n",
    "def href_tag(soup1):\n",
    "\n",
    "    tag_search_list1 = soup1.find(\"ul\", class_ = \"search_list_1\")\n",
    "    \n",
    "    if bool(tag_search_list1) == True:\n",
    "        tag_a = soup1.select('div#old_content > ul.search_list_1 > li > p.result_thumb > a')\n",
    "        global href\n",
    "        for i in tag_a:\n",
    "            href = i.attrs['href']\n",
    "    \n",
    "        return href\n",
    "    \n",
    "    else:\n",
    "        return \"없음\"\n",
    "    "
   ]
  },
  {
   "cell_type": "code",
   "execution_count": 35,
   "metadata": {},
   "outputs": [],
   "source": [
    "# 해당 페이지 링크 가져오기\n",
    "\n",
    "def find_link(href):\n",
    "    \n",
    "    if href != \"없음\":\n",
    "        url2 = \"https://movie.naver.com{}\".format(href)\n",
    "        html2 = requests.get(url2)\n",
    "        soup2 = BeautifulSoup(html2.text, 'html.parser')\n",
    "    \n",
    "        return soup2\n",
    "    \n",
    "    else:\n",
    "        return \"없음\""
   ]
  },
  {
   "cell_type": "code",
   "execution_count": 36,
   "metadata": {},
   "outputs": [],
   "source": [
    "# dd 태그 찾기\n",
    "\n",
    "def dd_tag(soup2):\n",
    "    \n",
    "    if soup2 != \"없음\":\n",
    "        find_dir = soup2.find_all('dd')\n",
    "    \n",
    "        return find_dir\n",
    "    \n",
    "    else:\n",
    "        return \"없음\""
   ]
  },
  {
   "cell_type": "code",
   "execution_count": 37,
   "metadata": {},
   "outputs": [],
   "source": [
    "# director 찾기\n",
    "def find_director(find_dir):\n",
    "    \n",
    "    if find_dir != \"없음\":\n",
    "        words = []\n",
    "    \n",
    "        for i in find_dir:\n",
    "            i = i.get_text()\n",
    "            tmp = []\n",
    "            tmp.append(i)\n",
    "        \n",
    "            for w in tmp:\n",
    "                w = w.strip('\\n')\n",
    "                words.append(w)\n",
    "                director = words[0].split(',')[0]\n",
    "        \n",
    "            return director\n",
    "    \n",
    "    else:\n",
    "        return \"없음\"\n",
    "            "
   ]
  },
  {
   "cell_type": "code",
   "execution_count": 41,
   "metadata": {},
   "outputs": [
    {
     "name": "stdout",
     "output_type": "stream",
     "text": [
      "['케이트 쇼트랜드', '데이비드 파운트니', '브루노 마테이']\n"
     ]
    }
   ],
   "source": [
    "# movie_names = list(nan_directors['영화명'][:10])\n",
    "\n",
    "def directors(movie_names):\n",
    "    \n",
    "    directors = []\n",
    "\n",
    "    for movie_name in movie_names:\n",
    "        time.sleep(0.5)\n",
    "        soup1 = url_search(movie_name)\n",
    "\n",
    "        href = href_tag(soup1)\n",
    "\n",
    "        soup2 = find_link(href)\n",
    "\n",
    "        find_dir = dd_tag(soup2)\n",
    "\n",
    "        director = find_director(find_dir)\n",
    "\n",
    "        directors.append(director)\n",
    "\n",
    "    return directors\n",
    "\n",
    "        \n",
    "print(directors(['블랙 위도우 2021', '마술피리 2014', '코만도']))"
   ]
  },
  {
   "cell_type": "code",
   "execution_count": null,
   "metadata": {},
   "outputs": [],
   "source": []
  },
  {
   "cell_type": "code",
   "execution_count": null,
   "metadata": {},
   "outputs": [],
   "source": []
  },
  {
   "cell_type": "code",
   "execution_count": null,
   "metadata": {},
   "outputs": [],
   "source": []
  },
  {
   "cell_type": "code",
   "execution_count": null,
   "metadata": {},
   "outputs": [],
   "source": []
  },
  {
   "cell_type": "code",
   "execution_count": null,
   "metadata": {},
   "outputs": [],
   "source": []
  },
  {
   "cell_type": "code",
   "execution_count": null,
   "metadata": {},
   "outputs": [],
   "source": []
  },
  {
   "cell_type": "code",
   "execution_count": 3,
   "metadata": {},
   "outputs": [],
   "source": [
    "# 네이버 영화 감독 정보 크롤링\n",
    "\n",
    "# 링크 접속\n",
    "def url_search(movie_name):\n",
    "    url1 = \"https://movie.naver.com/movie/search/result.naver?query={}&section=all&ie=utf8\".format(movie_name)\n",
    "    html1 = requests.get(url1)\n",
    "    soup1 = BeautifulSoup(html1.text, 'html.parser')\n",
    "    \n",
    "    return soup1\n",
    "\n",
    "# href 태그 찾기\n",
    "\n",
    "def href_tag(soup1):\n",
    "\n",
    "    tag_search_list1 = soup1.find(\"ul\", class_ = \"search_list_1\")\n",
    "    \n",
    "    if bool(tag_search_list1) == True:\n",
    "        tag_a = soup1.select('div#old_content > ul.search_list_1 > li > p.result_thumb > a')\n",
    "        global href\n",
    "        for i in tag_a:\n",
    "            href = i.attrs['href']\n",
    "    \n",
    "        return href\n",
    "    \n",
    "    else:\n",
    "        return \"없음\"\n",
    "    \n",
    "\n",
    "# 해당 페이지 링크 가져오기\n",
    "\n",
    "def find_link(href):\n",
    "    \n",
    "    if href != \"없음\":\n",
    "        url2 = \"https://movie.naver.com{}\".format(href)\n",
    "        html2 = requests.get(url2)\n",
    "        soup2 = BeautifulSoup(html2.text, 'html.parser')\n",
    "    \n",
    "        return soup2\n",
    "    \n",
    "    else:\n",
    "        return \"없음\"\n",
    "\n",
    "# dd 태그 찾기\n",
    "\n",
    "def dd_tag(soup2):\n",
    "    \n",
    "    if soup2 != \"없음\":\n",
    "        find_dir = soup2.find_all('dd')\n",
    "    \n",
    "        return find_dir\n",
    "    \n",
    "    else:\n",
    "        return \"없음\"\n",
    "\n",
    "# director 찾기\n",
    "def find_director(find_dir):\n",
    "    \n",
    "    if find_dir != \"없음\":\n",
    "        words = []\n",
    "    \n",
    "        for i in find_dir:\n",
    "            i = i.get_text()\n",
    "            tmp = []\n",
    "            tmp.append(i)\n",
    "        \n",
    "            for w in tmp:\n",
    "                w = w.strip('\\n')\n",
    "                words.append(w)\n",
    "                director = words[0].split(',')[0]\n",
    "        \n",
    "            return director\n",
    "    \n",
    "    else:\n",
    "        return \"없음\"\n",
    "            # 링크 접속\n",
    "def url_search(movie_name):\n",
    "    url1 = \"https://movie.naver.com/movie/search/result.naver?query={}&section=all&ie=utf8\".format(movie_name)\n",
    "    html1 = requests.get(url1)\n",
    "    soup1 = BeautifulSoup(html1.text, 'html.parser')\n",
    "    \n",
    "    return soup1"
   ]
  },
  {
   "cell_type": "code",
   "execution_count": 2,
   "metadata": {},
   "outputs": [],
   "source": [
    "def href_tag(soup1):\n",
    "\n",
    "    tag_search_list1 = soup1.find(\"ul\", class_ = \"search_list_1\")\n",
    "    \n",
    "    if bool(tag_search_list1) == True:\n",
    "        tag_a = soup1.select('div#old_content > ul.search_list_1 > li > p.result_thumb > a')\n",
    "        global href\n",
    "        for i in tag_a:\n",
    "            href = i.attrs['href']\n",
    "    \n",
    "        return href\n",
    "    \n",
    "    else:\n",
    "        return \"없음\""
   ]
  },
  {
   "cell_type": "code",
   "execution_count": 28,
   "metadata": {
    "scrolled": true
   },
   "outputs": [
    {
     "data": {
      "text/plain": [
       "True"
      ]
     },
     "execution_count": 28,
     "metadata": {},
     "output_type": "execute_result"
    }
   ],
   "source": [
    "soup1 = url_search('블랙 위도우')\n",
    "\n",
    "tag_search_list1 = soup1.find(\"ul\", class_ = \"search_list_1\")\n",
    "bool(tag_search_list1)"
   ]
  },
  {
   "cell_type": "code",
   "execution_count": null,
   "metadata": {},
   "outputs": [],
   "source": []
  },
  {
   "cell_type": "code",
   "execution_count": null,
   "metadata": {},
   "outputs": [],
   "source": []
  },
  {
   "cell_type": "code",
   "execution_count": null,
   "metadata": {},
   "outputs": [],
   "source": []
  },
  {
   "cell_type": "code",
   "execution_count": null,
   "metadata": {},
   "outputs": [],
   "source": []
  },
  {
   "cell_type": "code",
   "execution_count": null,
   "metadata": {},
   "outputs": [],
   "source": []
  },
  {
   "cell_type": "code",
   "execution_count": null,
   "metadata": {},
   "outputs": [],
   "source": []
  },
  {
   "cell_type": "code",
   "execution_count": null,
   "metadata": {},
   "outputs": [],
   "source": []
  },
  {
   "cell_type": "code",
   "execution_count": null,
   "metadata": {},
   "outputs": [],
   "source": []
  },
  {
   "cell_type": "code",
   "execution_count": null,
   "metadata": {},
   "outputs": [],
   "source": []
  },
  {
   "cell_type": "code",
   "execution_count": null,
   "metadata": {},
   "outputs": [],
   "source": []
  },
  {
   "cell_type": "code",
   "execution_count": null,
   "metadata": {},
   "outputs": [],
   "source": []
  },
  {
   "cell_type": "code",
   "execution_count": null,
   "metadata": {},
   "outputs": [],
   "source": []
  },
  {
   "cell_type": "code",
   "execution_count": null,
   "metadata": {},
   "outputs": [],
   "source": []
  },
  {
   "cell_type": "code",
   "execution_count": null,
   "metadata": {},
   "outputs": [],
   "source": []
  },
  {
   "cell_type": "code",
   "execution_count": null,
   "metadata": {},
   "outputs": [],
   "source": []
  },
  {
   "cell_type": "code",
   "execution_count": null,
   "metadata": {},
   "outputs": [],
   "source": []
  },
  {
   "cell_type": "code",
   "execution_count": null,
   "metadata": {},
   "outputs": [],
   "source": []
  },
  {
   "cell_type": "code",
   "execution_count": null,
   "metadata": {},
   "outputs": [],
   "source": []
  },
  {
   "cell_type": "code",
   "execution_count": null,
   "metadata": {},
   "outputs": [],
   "source": []
  },
  {
   "cell_type": "code",
   "execution_count": null,
   "metadata": {},
   "outputs": [],
   "source": []
  },
  {
   "cell_type": "code",
   "execution_count": null,
   "metadata": {},
   "outputs": [],
   "source": []
  },
  {
   "cell_type": "code",
   "execution_count": null,
   "metadata": {},
   "outputs": [],
   "source": []
  },
  {
   "cell_type": "code",
   "execution_count": null,
   "metadata": {},
   "outputs": [],
   "source": []
  },
  {
   "cell_type": "code",
   "execution_count": null,
   "metadata": {},
   "outputs": [],
   "source": []
  },
  {
   "cell_type": "code",
   "execution_count": null,
   "metadata": {},
   "outputs": [],
   "source": []
  },
  {
   "cell_type": "code",
   "execution_count": null,
   "metadata": {},
   "outputs": [],
   "source": []
  },
  {
   "cell_type": "code",
   "execution_count": null,
   "metadata": {},
   "outputs": [],
   "source": []
  },
  {
   "cell_type": "code",
   "execution_count": null,
   "metadata": {},
   "outputs": [],
   "source": []
  },
  {
   "cell_type": "code",
   "execution_count": null,
   "metadata": {},
   "outputs": [],
   "source": []
  }
 ],
 "metadata": {
  "kernelspec": {
   "display_name": "Python 3",
   "language": "python",
   "name": "python3"
  },
  "language_info": {
   "codemirror_mode": {
    "name": "ipython",
    "version": 3
   },
   "file_extension": ".py",
   "mimetype": "text/x-python",
   "name": "python",
   "nbconvert_exporter": "python",
   "pygments_lexer": "ipython3",
   "version": "3.7.6"
  }
 },
 "nbformat": 4,
 "nbformat_minor": 4
}
