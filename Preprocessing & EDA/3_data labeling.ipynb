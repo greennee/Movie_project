{
 "cells": [
  {
   "cell_type": "code",
   "execution_count": 1,
   "metadata": {},
   "outputs": [],
   "source": [
    "import time\n",
    "import csv\n",
    "import math\n",
    "import re\n",
    "from datetime import datetime\n",
    "import numpy as np\n",
    "import pandas as pd"
   ]
  },
  {
   "cell_type": "markdown",
   "metadata": {},
   "source": [
    "+ '영화명', '개봉일', '매출액', '누적매출액', '관객수', '누적관객수',\n",
    "    '스크린수', '상영횟수', '대표국적',  '배급사', '등급', '장르', '감독', '배우'\n",
    "    \n",
    " df : 원본파일\n",
    " db : 배우감독배급사 비교 할 파일?\n",
    "    \n",
    "+ 개봉일\n",
    "    - 1) nan 값에 대해서는 1000-01-01으로 변환.\n",
    "    - 2) 연도 형식으로 통일(연도만 있는 것, 형식 다른 것 => 0000-00-00 형식으로 변환)\n",
    "        - 수기 수정 가능\n",
    "    - 3) datetime 데이터 타입으로 변환\n",
    "    \n",
    " + 누적 관객수 / 스크린수 / 상영횟수\n",
    "     -> int 값이니 변경 X\n",
    "     \n",
    " \n",
    "+ 대표국적 11개 one-hot\n",
    "\n",
    "+ 장르  25개 one-hot\n",
    "\n",
    "+ 등급 위계가 있는 숫자로 변환\n",
    "    - 선호도 가장 높은 등급 기준으로 위계가 있는 숫자로 변환\n",
    "        - 통계 분석을 통해 등급별 매출 순위 (15/12/전체/청불/등급없음)\n",
    "            - df.groupby([\"등급\"]).sum().sort_values(by=\"누적관객수\")\n",
    "            \n",
    " \n",
    "+ 배급사 / 감독 / 배우\n",
    "    - \n",
    "            \n",
    "\n",
    " \n",
    " \n",
    " <!--  + 변수 삭제\n",
    "     - 영화명 / 매출액 / 관객수 -->"
   ]
  },
  {
   "cell_type": "markdown",
   "metadata": {},
   "source": [
    "# labeling 1"
   ]
  },
  {
   "cell_type": "code",
   "execution_count": 134,
   "metadata": {},
   "outputs": [],
   "source": [
    "df = pd.read_csv('중간저장3.csv', encoding = 'utf-8')"
   ]
  },
  {
   "cell_type": "code",
   "execution_count": 136,
   "metadata": {
    "collapsed": true
   },
   "outputs": [
    {
     "data": {
      "text/plain": [
       "5624                       1957-03-19 \n",
       "10940                            1959 \n",
       "20464                            1959 \n",
       "1777                             1961 \n",
       "2325                             1962 \n",
       "10952                            1962 \n",
       "11896                            1962 \n",
       "1463                             1962 \n",
       "10947                            1963 \n",
       "8078                             1963 \n",
       "10944                            1967 \n",
       "211                           1967-01 \n",
       "2250                             1968 \n",
       "16331                            1968 \n",
       "8236                             1969 \n",
       "1803                             1969 \n",
       "1489                             1970 \n",
       "2246                             1970 \n",
       "14240                      1975-05-24 \n",
       "1797                             1977 \n",
       "5572                             1986 \n",
       "12155                         1989-12 \n",
       "7552                       2004-08-06 \n",
       "5631                       2006-05-12 \n",
       "14080                      2006-10-27 \n",
       "5266                       2007-07-26 \n",
       "20496                      2009-11-03 \n",
       "2111                       2014-12-31 \n",
       "7262        1957-12-21 재,  1952-10-20 \n",
       "7261      1967 재, 1953 재,  1949-05-27 \n",
       "15651                       1946-01-31\n",
       "20667                       1946-05-01\n",
       "9858                        1946-05-23\n",
       "16330                       1946-10-21\n",
       "5067                        1946-11-22\n",
       "7256                        1946-12-01\n",
       "15110                       1948-04-21\n",
       "20238                       1948-08-18\n",
       "4426                        1948-09-24\n",
       "9253                        1948-10-15\n",
       "6287                        1948-10-26\n",
       "32                          1949-02-17\n",
       "4396                        1949-04-20\n",
       "2215                        1950-03-09\n",
       "6120                        1952-03-06\n",
       "15490                       1952-06-26\n",
       "5193                        1952-12-08\n",
       "9147                        1952-12-11\n",
       "19697                       1954-01-13\n",
       "12204                       1954-03-02\n",
       "Name: 개봉일, dtype: object"
      ]
     },
     "execution_count": 136,
     "metadata": {},
     "output_type": "execute_result"
    }
   ],
   "source": [
    "df[\"개봉일\"].sort_values().head(50)"
   ]
  },
  {
   "cell_type": "code",
   "execution_count": 21,
   "metadata": {},
   "outputs": [],
   "source": [
    "pd.options.display.float_format = '{:.5f}'.format\n",
    "#pd.reset_option('display.float_format')"
   ]
  },
  {
   "cell_type": "markdown",
   "metadata": {},
   "source": [
    "### 개봉일 nan 값을 1000-01-01로 변환"
   ]
  },
  {
   "cell_type": "code",
   "execution_count": 137,
   "metadata": {
    "collapsed": true
   },
   "outputs": [
    {
     "name": "stdout",
     "output_type": "stream",
     "text": [
      "<class 'pandas.core.frame.DataFrame'>\n",
      "RangeIndex: 21325 entries, 0 to 21324\n",
      "Data columns (total 14 columns):\n",
      " #   Column  Non-Null Count  Dtype \n",
      "---  ------  --------------  ----- \n",
      " 0   영화명     21325 non-null  object\n",
      " 1   개봉일     13946 non-null  object\n",
      " 2   매출액     21325 non-null  int64 \n",
      " 3   누적매출액   21325 non-null  int64 \n",
      " 4   관객수     21325 non-null  int64 \n",
      " 5   누적관객수   21325 non-null  int64 \n",
      " 6   스크린수    21325 non-null  int64 \n",
      " 7   상영횟수    21325 non-null  int64 \n",
      " 8   대표국적    21325 non-null  object\n",
      " 9   배급사     21325 non-null  object\n",
      " 10  등급      21325 non-null  object\n",
      " 11  장르      21325 non-null  object\n",
      " 12  감독      21325 non-null  object\n",
      " 13  배우      21325 non-null  object\n",
      "dtypes: int64(6), object(8)\n",
      "memory usage: 2.3+ MB\n"
     ]
    }
   ],
   "source": [
    "df.info()"
   ]
  },
  {
   "cell_type": "code",
   "execution_count": 138,
   "metadata": {},
   "outputs": [],
   "source": [
    "df['개봉일'].fillna(\"1900-01-01\", inplace = True)"
   ]
  },
  {
   "cell_type": "code",
   "execution_count": 139,
   "metadata": {
    "scrolled": true
   },
   "outputs": [
    {
     "data": {
      "text/html": [
       "<div>\n",
       "<style scoped>\n",
       "    .dataframe tbody tr th:only-of-type {\n",
       "        vertical-align: middle;\n",
       "    }\n",
       "\n",
       "    .dataframe tbody tr th {\n",
       "        vertical-align: top;\n",
       "    }\n",
       "\n",
       "    .dataframe thead th {\n",
       "        text-align: right;\n",
       "    }\n",
       "</style>\n",
       "<table border=\"1\" class=\"dataframe\">\n",
       "  <thead>\n",
       "    <tr style=\"text-align: right;\">\n",
       "      <th></th>\n",
       "      <th>영화명</th>\n",
       "      <th>개봉일</th>\n",
       "      <th>매출액</th>\n",
       "      <th>누적매출액</th>\n",
       "      <th>관객수</th>\n",
       "      <th>누적관객수</th>\n",
       "      <th>스크린수</th>\n",
       "      <th>상영횟수</th>\n",
       "      <th>대표국적</th>\n",
       "      <th>배급사</th>\n",
       "      <th>등급</th>\n",
       "      <th>장르</th>\n",
       "      <th>감독</th>\n",
       "      <th>배우</th>\n",
       "    </tr>\n",
       "  </thead>\n",
       "  <tbody>\n",
       "    <tr>\n",
       "      <th>0</th>\n",
       "      <td>416 프로젝트 \"공동의 기억: 트라우마\"</td>\n",
       "      <td>1900-01-01</td>\n",
       "      <td>2192500</td>\n",
       "      <td>2192500</td>\n",
       "      <td>437</td>\n",
       "      <td>437</td>\n",
       "      <td>3</td>\n",
       "      <td>17</td>\n",
       "      <td>한국</td>\n",
       "      <td>0</td>\n",
       "      <td>등급없음</td>\n",
       "      <td>다큐멘터리</td>\n",
       "      <td>0</td>\n",
       "      <td>['0']</td>\n",
       "    </tr>\n",
       "    <tr>\n",
       "      <th>4</th>\n",
       "      <td>제3의앵글 : 형형색색대만전</td>\n",
       "      <td>1900-01-01</td>\n",
       "      <td>1830000</td>\n",
       "      <td>1830000</td>\n",
       "      <td>305</td>\n",
       "      <td>305</td>\n",
       "      <td>1</td>\n",
       "      <td>2</td>\n",
       "      <td>기타</td>\n",
       "      <td>0</td>\n",
       "      <td>등급없음</td>\n",
       "      <td>장르없음</td>\n",
       "      <td>0</td>\n",
       "      <td>['0']</td>\n",
       "    </tr>\n",
       "    <tr>\n",
       "      <th>9</th>\n",
       "      <td>페이스트리의 왕</td>\n",
       "      <td>1900-01-01</td>\n",
       "      <td>642000</td>\n",
       "      <td>642000</td>\n",
       "      <td>107</td>\n",
       "      <td>107</td>\n",
       "      <td>1</td>\n",
       "      <td>2</td>\n",
       "      <td>미국</td>\n",
       "      <td>0</td>\n",
       "      <td>등급없음</td>\n",
       "      <td>장르없음</td>\n",
       "      <td>0</td>\n",
       "      <td>['0']</td>\n",
       "    </tr>\n",
       "    <tr>\n",
       "      <th>19</th>\n",
       "      <td>동쪽 저 멀리</td>\n",
       "      <td>1900-01-01</td>\n",
       "      <td>160000</td>\n",
       "      <td>160000</td>\n",
       "      <td>31</td>\n",
       "      <td>31</td>\n",
       "      <td>1</td>\n",
       "      <td>3</td>\n",
       "      <td>미국</td>\n",
       "      <td>0</td>\n",
       "      <td>등급없음</td>\n",
       "      <td>장르없음</td>\n",
       "      <td>0</td>\n",
       "      <td>['0']</td>\n",
       "    </tr>\n",
       "    <tr>\n",
       "      <th>21</th>\n",
       "      <td>뱀파이어의 그림자</td>\n",
       "      <td>1900-01-01</td>\n",
       "      <td>101500</td>\n",
       "      <td>101500</td>\n",
       "      <td>15</td>\n",
       "      <td>15</td>\n",
       "      <td>1</td>\n",
       "      <td>2</td>\n",
       "      <td>기타</td>\n",
       "      <td>0</td>\n",
       "      <td>청소년관람불가</td>\n",
       "      <td>공포</td>\n",
       "      <td>E.엘리아스메리지</td>\n",
       "      <td>['존말코비치', '윌렘대포', '캐리엘위스']</td>\n",
       "    </tr>\n",
       "    <tr>\n",
       "      <th>...</th>\n",
       "      <td>...</td>\n",
       "      <td>...</td>\n",
       "      <td>...</td>\n",
       "      <td>...</td>\n",
       "      <td>...</td>\n",
       "      <td>...</td>\n",
       "      <td>...</td>\n",
       "      <td>...</td>\n",
       "      <td>...</td>\n",
       "      <td>...</td>\n",
       "      <td>...</td>\n",
       "      <td>...</td>\n",
       "      <td>...</td>\n",
       "      <td>...</td>\n",
       "    </tr>\n",
       "    <tr>\n",
       "      <th>21316</th>\n",
       "      <td>포르투갈 여인</td>\n",
       "      <td>1900-01-01</td>\n",
       "      <td>205000</td>\n",
       "      <td>205000</td>\n",
       "      <td>32</td>\n",
       "      <td>32</td>\n",
       "      <td>1</td>\n",
       "      <td>2</td>\n",
       "      <td>기타</td>\n",
       "      <td>0</td>\n",
       "      <td>등급없음</td>\n",
       "      <td>드라마</td>\n",
       "      <td>0</td>\n",
       "      <td>['마르셀로우르게게', '잉그리드카벤', '리타듀라오']</td>\n",
       "    </tr>\n",
       "    <tr>\n",
       "      <th>21319</th>\n",
       "      <td>인터넷 중독자 수용소</td>\n",
       "      <td>1900-01-01</td>\n",
       "      <td>10000</td>\n",
       "      <td>10000</td>\n",
       "      <td>2</td>\n",
       "      <td>2</td>\n",
       "      <td>1</td>\n",
       "      <td>1</td>\n",
       "      <td>기타</td>\n",
       "      <td>0</td>\n",
       "      <td>등급없음</td>\n",
       "      <td>장르없음</td>\n",
       "      <td>힐라메달리아</td>\n",
       "      <td>['0']</td>\n",
       "    </tr>\n",
       "    <tr>\n",
       "      <th>21320</th>\n",
       "      <td>댄싱 인 자파</td>\n",
       "      <td>1900-01-01</td>\n",
       "      <td>88000</td>\n",
       "      <td>88000</td>\n",
       "      <td>15</td>\n",
       "      <td>15</td>\n",
       "      <td>1</td>\n",
       "      <td>2</td>\n",
       "      <td>미국</td>\n",
       "      <td>0</td>\n",
       "      <td>등급없음</td>\n",
       "      <td>다큐멘터리</td>\n",
       "      <td>힐라메달리아</td>\n",
       "      <td>['0']</td>\n",
       "    </tr>\n",
       "    <tr>\n",
       "      <th>21321</th>\n",
       "      <td>위기의 30대 여자들</td>\n",
       "      <td>1900-01-01</td>\n",
       "      <td>946400</td>\n",
       "      <td>946400</td>\n",
       "      <td>136</td>\n",
       "      <td>136</td>\n",
       "      <td>1</td>\n",
       "      <td>2</td>\n",
       "      <td>기타</td>\n",
       "      <td>0</td>\n",
       "      <td>등급없음</td>\n",
       "      <td>다큐멘터리</td>\n",
       "      <td>힐라메달리아</td>\n",
       "      <td>['0']</td>\n",
       "    </tr>\n",
       "    <tr>\n",
       "      <th>21323</th>\n",
       "      <td>나의 말을 지켜봐: 어느 귀 먼 연예인들의 이야기</td>\n",
       "      <td>1900-01-01</td>\n",
       "      <td>293500</td>\n",
       "      <td>293500</td>\n",
       "      <td>114</td>\n",
       "      <td>114</td>\n",
       "      <td>1</td>\n",
       "      <td>2</td>\n",
       "      <td>미국</td>\n",
       "      <td>0</td>\n",
       "      <td>등급없음</td>\n",
       "      <td>다큐멘터리</td>\n",
       "      <td>0</td>\n",
       "      <td>['0']</td>\n",
       "    </tr>\n",
       "  </tbody>\n",
       "</table>\n",
       "<p>7379 rows × 14 columns</p>\n",
       "</div>"
      ],
      "text/plain": [
       "                               영화명         개봉일      매출액    누적매출액  관객수  누적관객수  \\\n",
       "0          416 프로젝트 \"공동의 기억: 트라우마\"  1900-01-01  2192500  2192500  437    437   \n",
       "4                  제3의앵글 : 형형색색대만전  1900-01-01  1830000  1830000  305    305   \n",
       "9                         페이스트리의 왕  1900-01-01   642000   642000  107    107   \n",
       "19                         동쪽 저 멀리  1900-01-01   160000   160000   31     31   \n",
       "21                       뱀파이어의 그림자  1900-01-01   101500   101500   15     15   \n",
       "...                            ...         ...      ...      ...  ...    ...   \n",
       "21316                      포르투갈 여인  1900-01-01   205000   205000   32     32   \n",
       "21319                  인터넷 중독자 수용소  1900-01-01    10000    10000    2      2   \n",
       "21320                      댄싱 인 자파  1900-01-01    88000    88000   15     15   \n",
       "21321                  위기의 30대 여자들  1900-01-01   946400   946400  136    136   \n",
       "21323  나의 말을 지켜봐: 어느 귀 먼 연예인들의 이야기  1900-01-01   293500   293500  114    114   \n",
       "\n",
       "       스크린수  상영횟수 대표국적 배급사       등급     장르         감독  \\\n",
       "0         3    17   한국   0     등급없음  다큐멘터리          0   \n",
       "4         1     2   기타   0     등급없음   장르없음          0   \n",
       "9         1     2   미국   0     등급없음   장르없음          0   \n",
       "19        1     3   미국   0     등급없음   장르없음          0   \n",
       "21        1     2   기타   0  청소년관람불가     공포  E.엘리아스메리지   \n",
       "...     ...   ...  ...  ..      ...    ...        ...   \n",
       "21316     1     2   기타   0     등급없음    드라마          0   \n",
       "21319     1     1   기타   0     등급없음   장르없음     힐라메달리아   \n",
       "21320     1     2   미국   0     등급없음  다큐멘터리     힐라메달리아   \n",
       "21321     1     2   기타   0     등급없음  다큐멘터리     힐라메달리아   \n",
       "21323     1     2   미국   0     등급없음  다큐멘터리          0   \n",
       "\n",
       "                                    배우  \n",
       "0                                ['0']  \n",
       "4                                ['0']  \n",
       "9                                ['0']  \n",
       "19                               ['0']  \n",
       "21          ['존말코비치', '윌렘대포', '캐리엘위스']  \n",
       "...                                ...  \n",
       "21316  ['마르셀로우르게게', '잉그리드카벤', '리타듀라오']  \n",
       "21319                            ['0']  \n",
       "21320                            ['0']  \n",
       "21321                            ['0']  \n",
       "21323                            ['0']  \n",
       "\n",
       "[7379 rows x 14 columns]"
      ]
     },
     "execution_count": 139,
     "metadata": {},
     "output_type": "execute_result"
    }
   ],
   "source": [
    "df[df['개봉일'] == \"1900-01-01\"]"
   ]
  },
  {
   "cell_type": "code",
   "execution_count": 140,
   "metadata": {},
   "outputs": [],
   "source": [
    "# 날짜 형식이 0000-00-00이 아닌 행의 인덱스 가져오기\n",
    "\n",
    "index=[]\n",
    "for i in range(len(df[\"개봉일\"])):\n",
    "    p= re.compile(\"\\d\\d\\d\\d-\\d\\d-\\d\\d\")\n",
    "    m= bool(p.match(str(df[\"개봉일\"][i])))\n",
    "    if m == False:\n",
    "            index.append(i)"
   ]
  },
  {
   "cell_type": "code",
   "execution_count": 141,
   "metadata": {},
   "outputs": [
    {
     "data": {
      "text/plain": [
       "78"
      ]
     },
     "execution_count": 141,
     "metadata": {},
     "output_type": "execute_result"
    }
   ],
   "source": [
    "len(index)"
   ]
  },
  {
   "cell_type": "code",
   "execution_count": 143,
   "metadata": {
    "collapsed": true
   },
   "outputs": [
    {
     "data": {
      "text/plain": [
       "185                            2008-04\n",
       "186                            2008-04\n",
       "187                            2008-04\n",
       "188                            2008-04\n",
       "211                           1967-01 \n",
       "277                               1961\n",
       "1207                              1969\n",
       "1208                              1970\n",
       "1463                             1962 \n",
       "1489                             1970 \n",
       "1775                              1965\n",
       "1776                              1964\n",
       "1777                             1961 \n",
       "1778                              1966\n",
       "1780                              1964\n",
       "1797                             1977 \n",
       "1803                             1969 \n",
       "2111                       2014-12-31 \n",
       "2237                              1963\n",
       "2241                              1967\n",
       "2246                             1970 \n",
       "2250                             1968 \n",
       "2251                              1961\n",
       "2278                              1968\n",
       "2325                             1962 \n",
       "3436                              1969\n",
       "4549                           2004-12\n",
       "5266                       2007-07-26 \n",
       "5572                             1986 \n",
       "5624                       1957-03-19 \n",
       "5631                       2006-05-12 \n",
       "7261      1967 재, 1953 재,  1949-05-27 \n",
       "7262        1957-12-21 재,  1952-10-20 \n",
       "7552                       2004-08-06 \n",
       "8078                             1963 \n",
       "8236                             1969 \n",
       "8258                              1970\n",
       "9703                              1981\n",
       "9807                              2021\n",
       "10027                          2006-10\n",
       "10525                             1962\n",
       "10929                             1970\n",
       "10930                             1959\n",
       "10931                             1963\n",
       "10933                             1959\n",
       "10935                             1969\n",
       "10936                             1963\n",
       "10938                             1969\n",
       "10940                            1959 \n",
       "10944                            1967 \n",
       "10947                            1963 \n",
       "10948                             1961\n",
       "10952                            1962 \n",
       "10955                             1968\n",
       "10956                             1959\n",
       "10958                             1964\n",
       "10960                             1968\n",
       "11090                             1969\n",
       "11092                             1968\n",
       "11896                            1962 \n",
       "12155                         1989-12 \n",
       "14080                      2006-10-27 \n",
       "14240                      1975-05-24 \n",
       "14343                             2008\n",
       "14345                             1968\n",
       "14372                             1968\n",
       "14504                             1968\n",
       "14636                             1968\n",
       "15843                             1971\n",
       "16109                             1970\n",
       "16110                             1969\n",
       "16331                            1968 \n",
       "16477                             1968\n",
       "16478                             1969\n",
       "18876                          2015-08\n",
       "20464                            1959 \n",
       "20466                             1961\n",
       "20496                      2009-11-03 \n",
       "Name: 개봉일, dtype: object"
      ]
     },
     "execution_count": 143,
     "metadata": {},
     "output_type": "execute_result"
    }
   ],
   "source": [
    "pd.set_option('display.max_rows',3000)\n",
    "df.iloc[index][\"개봉일\"].head(78)"
   ]
  },
  {
   "cell_type": "code",
   "execution_count": 144,
   "metadata": {
    "scrolled": false
   },
   "outputs": [
    {
     "name": "stderr",
     "output_type": "stream",
     "text": [
      "<ipython-input-144-83c61f75f097>:7: SettingWithCopyWarning: \n",
      "A value is trying to be set on a copy of a slice from a DataFrame\n",
      "\n",
      "See the caveats in the documentation: https://pandas.pydata.org/pandas-docs/stable/user_guide/indexing.html#returning-a-view-versus-a-copy\n",
      "  df[\"개봉일\"][i] = \"\".join(List)\n"
     ]
    }
   ],
   "source": [
    "# 개봉일 공백 제거\n",
    "for i in range(len(df[\"개봉일\"])):\n",
    "    if type(df[\"개봉일\"][i]) == float:\n",
    "        df[\"개봉일\"][i] = 0\n",
    "    else:\n",
    "        List = df[\"개봉일\"][i].split(\" \")\n",
    "        df[\"개봉일\"][i] = \"\".join(List)"
   ]
  },
  {
   "cell_type": "code",
   "execution_count": 145,
   "metadata": {},
   "outputs": [
    {
     "data": {
      "text/plain": [
       "'1952-10-20'"
      ]
     },
     "execution_count": 145,
     "metadata": {},
     "output_type": "execute_result"
    }
   ],
   "source": [
    "# 위에 거 확인 코드\n",
    "# df.iloc[7262][\"개봉일\"][-10:]"
   ]
  },
  {
   "cell_type": "code",
   "execution_count": 146,
   "metadata": {
    "scrolled": true
   },
   "outputs": [
    {
     "name": "stderr",
     "output_type": "stream",
     "text": [
      "<ipython-input-146-d5ad4e9d3588>:6: SettingWithCopyWarning: \n",
      "A value is trying to be set on a copy of a slice from a DataFrame\n",
      "\n",
      "See the caveats in the documentation: https://pandas.pydata.org/pandas-docs/stable/user_guide/indexing.html#returning-a-view-versus-a-copy\n",
      "  df['개봉일'][j] = df.iloc[j]['개봉일'] + \"-01\"\n",
      "<ipython-input-146-d5ad4e9d3588>:3: SettingWithCopyWarning: \n",
      "A value is trying to be set on a copy of a slice from a DataFrame\n",
      "\n",
      "See the caveats in the documentation: https://pandas.pydata.org/pandas-docs/stable/user_guide/indexing.html#returning-a-view-versus-a-copy\n",
      "  df['개봉일'][j] = df.iloc[j]['개봉일'] + \"-01-01\"\n",
      "<ipython-input-146-d5ad4e9d3588>:10: SettingWithCopyWarning: \n",
      "A value is trying to be set on a copy of a slice from a DataFrame\n",
      "\n",
      "See the caveats in the documentation: https://pandas.pydata.org/pandas-docs/stable/user_guide/indexing.html#returning-a-view-versus-a-copy\n",
      "  df['개봉일'][j] = df.iloc[j]['개봉일'][-10:]\n"
     ]
    }
   ],
   "source": [
    "\n",
    "for j in range(len(df['개봉일'])):\n",
    "    if len(df.iloc[j]['개봉일']) == 4:\n",
    "        df['개봉일'][j] = df.iloc[j]['개봉일'] + \"-01-01\"\n",
    "\n",
    "    elif len(df.iloc[j]['개봉일']) == 7:\n",
    "        df['개봉일'][j] = df.iloc[j]['개봉일'] + \"-01\"\n",
    "        \n",
    "        \n",
    "    elif  len(df.iloc[j]['개봉일']) >= 11:\n",
    "        df['개봉일'][j] = df.iloc[j]['개봉일'][-10:]\n",
    "        \n",
    "    else: \n",
    "        continue"
   ]
  },
  {
   "cell_type": "code",
   "execution_count": 147,
   "metadata": {
    "collapsed": true
   },
   "outputs": [
    {
     "data": {
      "text/plain": [
       "185      2008-04-01\n",
       "186      2008-04-01\n",
       "187      2008-04-01\n",
       "188      2008-04-01\n",
       "211      1967-01-01\n",
       "277      1961-01-01\n",
       "1207     1969-01-01\n",
       "1208     1970-01-01\n",
       "1463     1962-01-01\n",
       "1489     1970-01-01\n",
       "1775     1965-01-01\n",
       "1776     1964-01-01\n",
       "1777     1961-01-01\n",
       "1778     1966-01-01\n",
       "1780     1964-01-01\n",
       "1797     1977-01-01\n",
       "1803     1969-01-01\n",
       "2111     2014-12-31\n",
       "2237     1963-01-01\n",
       "2241     1967-01-01\n",
       "2246     1970-01-01\n",
       "2250     1968-01-01\n",
       "2251     1961-01-01\n",
       "2278     1968-01-01\n",
       "2325     1962-01-01\n",
       "3436     1969-01-01\n",
       "4549     2004-12-01\n",
       "5266     2007-07-26\n",
       "5572     1986-01-01\n",
       "5624     1957-03-19\n",
       "5631     2006-05-12\n",
       "7261     1949-05-27\n",
       "7262     1952-10-20\n",
       "7552     2004-08-06\n",
       "8078     1963-01-01\n",
       "8236     1969-01-01\n",
       "8258     1970-01-01\n",
       "9703     1981-01-01\n",
       "9807     2021-01-01\n",
       "10027    2006-10-01\n",
       "10525    1962-01-01\n",
       "10929    1970-01-01\n",
       "10930    1959-01-01\n",
       "10931    1963-01-01\n",
       "10933    1959-01-01\n",
       "10935    1969-01-01\n",
       "10936    1963-01-01\n",
       "10938    1969-01-01\n",
       "10940    1959-01-01\n",
       "10944    1967-01-01\n",
       "10947    1963-01-01\n",
       "10948    1961-01-01\n",
       "10952    1962-01-01\n",
       "10955    1968-01-01\n",
       "10956    1959-01-01\n",
       "10958    1964-01-01\n",
       "10960    1968-01-01\n",
       "11090    1969-01-01\n",
       "11092    1968-01-01\n",
       "11896    1962-01-01\n",
       "12155    1989-12-01\n",
       "14080    2006-10-27\n",
       "14240    1975-05-24\n",
       "14343    2008-01-01\n",
       "14345    1968-01-01\n",
       "14372    1968-01-01\n",
       "14504    1968-01-01\n",
       "14636    1968-01-01\n",
       "15843    1971-01-01\n",
       "16109    1970-01-01\n",
       "16110    1969-01-01\n",
       "16331    1968-01-01\n",
       "16477    1968-01-01\n",
       "16478    1969-01-01\n",
       "18876    2015-08-01\n",
       "20464    1959-01-01\n",
       "20466    1961-01-01\n",
       "20496    2009-11-03\n",
       "Name: 개봉일, dtype: object"
      ]
     },
     "execution_count": 147,
     "metadata": {},
     "output_type": "execute_result"
    }
   ],
   "source": [
    "df.iloc[index][\"개봉일\"].head(78) "
   ]
  },
  {
   "cell_type": "code",
   "execution_count": 148,
   "metadata": {},
   "outputs": [],
   "source": [
    "# datetime 데이터 타입으로 변환\n",
    "df[\"개봉일\"]=  pd.to_datetime(df[\"개봉일\"], format=\"%Y-%m-%d\")"
   ]
  },
  {
   "cell_type": "code",
   "execution_count": 149,
   "metadata": {
    "scrolled": false
   },
   "outputs": [
    {
     "name": "stdout",
     "output_type": "stream",
     "text": [
      "<class 'pandas.core.frame.DataFrame'>\n",
      "RangeIndex: 21325 entries, 0 to 21324\n",
      "Data columns (total 14 columns):\n",
      " #   Column  Non-Null Count  Dtype         \n",
      "---  ------  --------------  -----         \n",
      " 0   영화명     21325 non-null  object        \n",
      " 1   개봉일     21325 non-null  datetime64[ns]\n",
      " 2   매출액     21325 non-null  int64         \n",
      " 3   누적매출액   21325 non-null  int64         \n",
      " 4   관객수     21325 non-null  int64         \n",
      " 5   누적관객수   21325 non-null  int64         \n",
      " 6   스크린수    21325 non-null  int64         \n",
      " 7   상영횟수    21325 non-null  int64         \n",
      " 8   대표국적    21325 non-null  object        \n",
      " 9   배급사     21325 non-null  object        \n",
      " 10  등급      21325 non-null  object        \n",
      " 11  장르      21325 non-null  object        \n",
      " 12  감독      21325 non-null  object        \n",
      " 13  배우      21325 non-null  object        \n",
      "dtypes: datetime64[ns](1), int64(6), object(7)\n",
      "memory usage: 2.3+ MB\n"
     ]
    }
   ],
   "source": [
    "df.info()"
   ]
  },
  {
   "cell_type": "code",
   "execution_count": 151,
   "metadata": {},
   "outputs": [],
   "source": [
    "df.to_csv(\"중간저장4.csv\", encoding = 'utf-8-sig', index = False)"
   ]
  },
  {
   "cell_type": "code",
   "execution_count": 150,
   "metadata": {},
   "outputs": [
    {
     "data": {
      "text/plain": [
       "0                                    ['0']\n",
       "1               ['애덤존슨', '로버트제인', '케빈소르보']\n",
       "2            ['모건브래들리', '그레이엄빈센트', '캠벨루셀']\n",
       "3                             ['빌오버스트주니어']\n",
       "4                                    ['0']\n",
       "                       ...                \n",
       "21320                                ['0']\n",
       "21321                                ['0']\n",
       "21322                 ['제임스캘로웨이', '스칼렛마셜']\n",
       "21323                                ['0']\n",
       "21324    ['제임스와일더', '조아큄드알메이다', '레베카메이파머']\n",
       "Name: 배우, Length: 21325, dtype: object"
      ]
     },
     "execution_count": 150,
     "metadata": {},
     "output_type": "execute_result"
    }
   ],
   "source": [
    "df[\"배우\"]"
   ]
  },
  {
   "cell_type": "markdown",
   "metadata": {},
   "source": [
    "2가지 경로\n",
    "df 저희 돌리는 데이터\n",
    "db 관객수 가져오는 데이터\n",
    "\n",
    "df for 1~마지막행까지 배우1 2 3 \n",
    "    for 배우 1,2,3\n",
    "        배우1 db 배우 어디있는지 인덱스 가져오기\n",
    "        db[\"인덱스\"]  if 배우\n",
    "        for db 날짜인덱스"
   ]
  },
  {
   "cell_type": "markdown",
   "metadata": {},
   "source": [
    "for1 -> 배우 3명 분리\n",
    "\n",
    "for2 배우1\n",
    "    3년 데이터 할당\n",
    "\n",
    "for3 배우2\n",
    "\n",
    "for4 배우3\n",
    "\n",
    "\n",
    "for len(df)\n",
    "    def for1(df[배우][i])\n",
    "    -> return 배우1, 배우2, 배우3\n",
    "    def  3년 데이터 할당\n",
    "    배우1 이 전체 db에 대해 배우 열에 있는 행의 인덱스\n",
    "    이 영화 개봉일 기준 3년 내 개봉한 영화인지 개봉일 행의 인덱스\n",
    "    db[공통인덱스.groupby(\"누적관객수\"].sum()\n",
    "    \n",
    "    \n",
    "    "
   ]
  },
  {
   "cell_type": "code",
   "execution_count": null,
   "metadata": {},
   "outputs": [],
   "source": [
    "for num in range(len(df2[\"배우\"])):\n",
    "    if df2[\"배우\"][num].strip(\"[]\").split(\",\")[0].strip(\"'\") =='0':\n",
    "        df2.loc[num,\"배우\"] = 0\n",
    "        \n",
    "    else:\n",
    "        if pd.isna(df2.iloc[i][\"개봉일\"]):\n",
    "            df2.loc[i,[\"배급사\",\"배우\",\"감독\"]] = 0\n",
    "            \n",
    "        else:\n",
    "            date_tf = (df2.iloc[num][\"개봉일\"] > db2[\"개봉일\"]) & (df2.iloc[num][\"개봉일\"]- relativedelta(years=3) < db2[\"개봉일\"])\n",
    "            act_list = df2[\"배우\"][num].strip(\"[]\").split(\",\")\n",
    "            \n",
    "            for act in act_list:\n",
    "                for \n",
    "            \n",
    "            \n",
    "            \n",
    "                \n",
    "                act.strip(\"'\")"
   ]
  },
  {
   "cell_type": "code",
   "execution_count": null,
   "metadata": {},
   "outputs": [],
   "source": [
    "            \n",
    "            for act in act_list:\n",
    "                audi = 0\n",
    "                count = 0\n",
    "                if act.strip(\"'\")== '0':\n",
    "                       df2.loc[i,\"배우\"] = 0\n",
    "                       \n",
    "                else:\n",
    "               for i in range(len(df2)):\n",
    "    if i in index:\n",
    "        \n",
    "    else:\n",
    "        act_list = df2.iloc[i][\"배우\"].strip(\"[]\").split(\",\")\n",
    "        \n",
    "\n",
    "                   \n",
    "                       act.strip(\"'\") in db2[\"배우\"][j]:\n",
    "                       audi += db2[\"누적관객수\"][j]\n",
    "                       count += 1\n",
    "            audi = audi /count"
   ]
  },
  {
   "cell_type": "code",
   "execution_count": 649,
   "metadata": {},
   "outputs": [],
   "source": [
    "date_tf = (df2.iloc[1][\"개봉일\"] > db2[\"개봉일\"]) & (df2.iloc[1][\"개봉일\"]- relativedelta(years=3) < db2[\"개봉일\"])"
   ]
  }
 ],
 "metadata": {
  "kernelspec": {
   "display_name": "Python 3",
   "language": "python",
   "name": "python3"
  },
  "language_info": {
   "codemirror_mode": {
    "name": "ipython",
    "version": 3
   },
   "file_extension": ".py",
   "mimetype": "text/x-python",
   "name": "python",
   "nbconvert_exporter": "python",
   "pygments_lexer": "ipython3",
   "version": "3.8.5"
  }
 },
 "nbformat": 4,
 "nbformat_minor": 4
}
