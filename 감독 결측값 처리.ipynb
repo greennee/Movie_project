{
 "cells": [
  {
   "cell_type": "code",
   "execution_count": 2,
   "metadata": {},
   "outputs": [],
   "source": [
    "import numpy as np\n",
    "import pandas as pd\n",
    "import matplotlib.pyplot as plt\n",
    "\n",
    "from urllib.request import urlopen\n",
    "from bs4 import BeautifulSoup\n",
    "from selenium import webdriver\n",
    "import time\n",
    "import requests\n",
    "\n",
    "import re"
   ]
  },
  {
   "cell_type": "code",
   "execution_count": 112,
   "metadata": {
    "scrolled": true
   },
   "outputs": [],
   "source": [
    "movie = pd.read_csv('data_ver4.csv')"
   ]
  },
  {
   "cell_type": "code",
   "execution_count": 111,
   "metadata": {
    "scrolled": true
   },
   "outputs": [
    {
     "data": {
      "text/plain": [
       "20528"
      ]
     },
     "execution_count": 111,
     "metadata": {},
     "output_type": "execute_result"
    }
   ],
   "source": [
    "len(movie)"
   ]
  },
  {
   "cell_type": "markdown",
   "metadata": {},
   "source": [
    "# 중간 저장"
   ]
  },
  {
   "cell_type": "markdown",
   "metadata": {},
   "source": [
    "# 시작"
   ]
  },
  {
   "cell_type": "code",
   "execution_count": 213,
   "metadata": {},
   "outputs": [],
   "source": [
    "movie_df = pd.read_csv('data_ver4.csv')"
   ]
  },
  {
   "cell_type": "markdown",
   "metadata": {},
   "source": [
    "# 1. 중복된 영화 찾기"
   ]
  },
  {
   "cell_type": "code",
   "execution_count": 215,
   "metadata": {
    "scrolled": true
   },
   "outputs": [],
   "source": [
    "pd.set_option('display.max_rows', 10000)\n",
    "\n",
    "# 중복된 영화 확인하기\n",
    "name_counts = movie_df['영화명'].value_counts()"
   ]
  },
  {
   "cell_type": "code",
   "execution_count": 216,
   "metadata": {},
   "outputs": [],
   "source": [
    "# 영화 카운트만 따로 df로 만들기\n",
    "n_c_df = pd.DataFrame(name_counts)"
   ]
  },
  {
   "cell_type": "code",
   "execution_count": 217,
   "metadata": {},
   "outputs": [
    {
     "name": "stdout",
     "output_type": "stream",
     "text": [
      "로미오와 줄리엣\n",
      "6\n"
     ]
    }
   ],
   "source": [
    "print(n_c_df.iloc[0, :].name)\n",
    "print(int(n_c_df.iloc[0, :].values))"
   ]
  },
  {
   "cell_type": "code",
   "execution_count": 218,
   "metadata": {},
   "outputs": [],
   "source": [
    "# 중복된 영화 리스트\n",
    "\n",
    "dupl = []\n",
    "\n",
    "for i in range(len(n_c_df)):\n",
    "    if int(n_c_df.iloc[i, :].values) > 1:\n",
    "        dupl.append(n_c_df.iloc[i, :].name)"
   ]
  },
  {
   "cell_type": "code",
   "execution_count": 219,
   "metadata": {
    "scrolled": true
   },
   "outputs": [
    {
     "data": {
      "text/plain": [
       "483"
      ]
     },
     "execution_count": 219,
     "metadata": {},
     "output_type": "execute_result"
    }
   ],
   "source": [
    "len(dupl)"
   ]
  },
  {
   "cell_type": "code",
   "execution_count": 124,
   "metadata": {},
   "outputs": [
    {
     "data": {
      "text/plain": [
       "0          26000\n",
       "1         300000\n",
       "2        1830000\n",
       "3           4000\n",
       "4           5000\n",
       "          ...   \n",
       "20523    2992500\n",
       "20524      10000\n",
       "20525      88000\n",
       "20526    3543400\n",
       "20527       4000\n",
       "Name: 매출액, Length: 20528, dtype: int64"
      ]
     },
     "execution_count": 124,
     "metadata": {},
     "output_type": "execute_result"
    }
   ],
   "source": [
    "movie_df['매출액']"
   ]
  },
  {
   "cell_type": "markdown",
   "metadata": {},
   "source": [
    "# 2. 감독 따기"
   ]
  },
  {
   "cell_type": "code",
   "execution_count": 220,
   "metadata": {},
   "outputs": [],
   "source": [
    "directors = []\n",
    "\n",
    "for i in range(0, len(movie_df)):\n",
    "    tmp = str(movie_df[\"감독\"][i]).split(',')[0]\n",
    "    \n",
    "    directors.append(tmp)    \n",
    "\n",
    "pd.Series(directors).value_counts() \n",
    "\n",
    "# nan 값이 많네?\n",
    "# movie.iloc[[14370]]['감독']\n",
    "# movie['감독'] = movie['감독'].astype(str) # str로 변경\n",
    "\n",
    "# 첫번째 감독으로 변경\n",
    "movie_df['감독'] = directors"
   ]
  },
  {
   "cell_type": "code",
   "execution_count": 121,
   "metadata": {},
   "outputs": [],
   "source": [
    "# # 기타 장르 삭제\n",
    "# movie_df = movie_df[movie_df['장르'] != \"기타\"]"
   ]
  },
  {
   "cell_type": "markdown",
   "metadata": {},
   "source": [
    "## 숫자데이터 데이터 타입변환하기(object->int)"
   ]
  },
  {
   "cell_type": "code",
   "execution_count": 37,
   "metadata": {},
   "outputs": [],
   "source": [
    "nums = []\n",
    "\n",
    "for num in movie_df['누적매출액']:\n",
    "    nu_num = num.replace(\",\", \"\")\n",
    "    nums.append(int(nu_num))\n",
    "    "
   ]
  },
  {
   "cell_type": "code",
   "execution_count": 38,
   "metadata": {},
   "outputs": [],
   "source": [
    "movie_df['누적매출액'] = nums"
   ]
  },
  {
   "cell_type": "code",
   "execution_count": 39,
   "metadata": {},
   "outputs": [],
   "source": [
    "nums = []\n",
    "\n",
    "for num in movie_df['매출액']:\n",
    "    nu_num = num.replace(\",\", \"\")\n",
    "    nums.append(int(nu_num))\n",
    "    "
   ]
  },
  {
   "cell_type": "code",
   "execution_count": 40,
   "metadata": {},
   "outputs": [],
   "source": [
    "movie_df['매출액'] = nums"
   ]
  },
  {
   "cell_type": "code",
   "execution_count": 41,
   "metadata": {},
   "outputs": [],
   "source": [
    "nums = []\n",
    "\n",
    "for num in movie_df['관객수']:\n",
    "    nu_num = num.replace(\",\", \"\")\n",
    "    nums.append(int(nu_num))\n",
    "    "
   ]
  },
  {
   "cell_type": "code",
   "execution_count": 42,
   "metadata": {},
   "outputs": [],
   "source": [
    "movie_df['관객수'] = nums"
   ]
  },
  {
   "cell_type": "code",
   "execution_count": 43,
   "metadata": {},
   "outputs": [],
   "source": [
    "nums = []\n",
    "\n",
    "for num in movie_df['누적관객수']:\n",
    "    nu_num = num.replace(\",\", \"\")\n",
    "    nums.append(int(nu_num))\n",
    "    "
   ]
  },
  {
   "cell_type": "code",
   "execution_count": 44,
   "metadata": {},
   "outputs": [],
   "source": [
    "movie_df['누적관객수'] = nums"
   ]
  },
  {
   "cell_type": "code",
   "execution_count": 45,
   "metadata": {},
   "outputs": [],
   "source": [
    "nums = []\n",
    "\n",
    "for num in movie_df['스크린수']:\n",
    "    nu_num = num.replace(\",\", \"\")\n",
    "    nums.append(int(nu_num))\n",
    "    "
   ]
  },
  {
   "cell_type": "code",
   "execution_count": 46,
   "metadata": {},
   "outputs": [],
   "source": [
    "movie_df['스크린수'] = nums"
   ]
  },
  {
   "cell_type": "code",
   "execution_count": 47,
   "metadata": {},
   "outputs": [],
   "source": [
    "nums = []\n",
    "\n",
    "for num in movie_df['상영횟수']:\n",
    "    nu_num = num.replace(\",\", \"\")\n",
    "    nums.append(int(nu_num))\n",
    "    "
   ]
  },
  {
   "cell_type": "code",
   "execution_count": 48,
   "metadata": {},
   "outputs": [],
   "source": [
    "movie_df['상영횟수'] = nums"
   ]
  },
  {
   "cell_type": "code",
   "execution_count": 125,
   "metadata": {},
   "outputs": [],
   "source": [
    "# 누적 매출액 0 갯수 854\n",
    "movie_df = movie_df[(movie_df['누적매출액'] > 1) & (movie_df['누적관객수'] > 1)]"
   ]
  },
  {
   "cell_type": "code",
   "execution_count": 434,
   "metadata": {},
   "outputs": [
    {
     "ename": "AttributeError",
     "evalue": "'float' object has no attribute 'split'",
     "output_type": "error",
     "traceback": [
      "\u001b[1;31m---------------------------------------------------------------------------\u001b[0m",
      "\u001b[1;31mAttributeError\u001b[0m                            Traceback (most recent call last)",
      "\u001b[1;32m<ipython-input-434-0f03a6016791>\u001b[0m in \u001b[0;36m<module>\u001b[1;34m\u001b[0m\n\u001b[0;32m      1\u001b[0m \u001b[0mopen_year\u001b[0m \u001b[1;33m=\u001b[0m \u001b[0mlist\u001b[0m\u001b[1;33m(\u001b[0m\u001b[0mnan_director\u001b[0m\u001b[1;33m.\u001b[0m\u001b[0mloc\u001b[0m\u001b[1;33m[\u001b[0m\u001b[0mnan_director\u001b[0m\u001b[1;33m[\u001b[0m\u001b[1;34m'영화명'\u001b[0m\u001b[1;33m]\u001b[0m \u001b[1;33m==\u001b[0m \u001b[1;34m'나의 고향'\u001b[0m\u001b[1;33m]\u001b[0m\u001b[1;33m[\u001b[0m\u001b[1;34m'개봉일'\u001b[0m\u001b[1;33m]\u001b[0m\u001b[1;33m)\u001b[0m\u001b[1;33m[\u001b[0m\u001b[1;36m0\u001b[0m\u001b[1;33m]\u001b[0m\u001b[1;33m\u001b[0m\u001b[1;33m\u001b[0m\u001b[0m\n\u001b[1;32m----> 2\u001b[1;33m \u001b[0myear\u001b[0m \u001b[1;33m=\u001b[0m \u001b[0mopen_year\u001b[0m\u001b[1;33m.\u001b[0m\u001b[0msplit\u001b[0m\u001b[1;33m(\u001b[0m\u001b[1;34m'-'\u001b[0m\u001b[1;33m)\u001b[0m\u001b[1;33m[\u001b[0m\u001b[1;36m0\u001b[0m\u001b[1;33m]\u001b[0m\u001b[1;33m\u001b[0m\u001b[1;33m\u001b[0m\u001b[0m\n\u001b[0m\u001b[0;32m      3\u001b[0m \u001b[0myear\u001b[0m\u001b[1;33m\u001b[0m\u001b[1;33m\u001b[0m\u001b[0m\n",
      "\u001b[1;31mAttributeError\u001b[0m: 'float' object has no attribute 'split'"
     ]
    }
   ],
   "source": [
    "open_year = list(nan_director.loc[nan_director['영화명'] == '나의 고향']['개봉일'])[0]\n",
    "year = open_year.split('-')[0]\n",
    "year"
   ]
  },
  {
   "cell_type": "markdown",
   "metadata": {},
   "source": [
    "# 네이버 영화 감독 정보 크롤링"
   ]
  },
  {
   "cell_type": "code",
   "execution_count": 9,
   "metadata": {},
   "outputs": [],
   "source": [
    "# 링크 접속\n",
    "def url_search(movie_name):\n",
    "    url1 = \"https://movie.naver.com/movie/search/result.naver?query={}&section=all&ie=utf8\".format(movie_name)\n",
    "    html1 = requests.get(url1)\n",
    "    soup1 = BeautifulSoup(html1.text, 'html.parser')\n",
    "    \n",
    "    return soup1"
   ]
  },
  {
   "cell_type": "code",
   "execution_count": 35,
   "metadata": {},
   "outputs": [],
   "source": [
    "def one_or_more(soup1):\n",
    "    tag_search_child = soup1.find(\"div\", class_ = \"search_header first-child\")\n",
    "    if bool(tag_search_child) == True:\n",
    "        num1 = soup1.find('span', class_ = 'num')\n",
    "        num2 = num1.get_text()\n",
    "        num3 = num2[3]\n",
    "    \n",
    "        return int(num3)\n",
    "    else:\n",
    "        return \"없음\""
   ]
  },
  {
   "cell_type": "code",
   "execution_count": 36,
   "metadata": {},
   "outputs": [
    {
     "data": {
      "text/plain": [
       "int"
      ]
     },
     "execution_count": 36,
     "metadata": {},
     "output_type": "execute_result"
    }
   ],
   "source": [
    "soup_ = url_search('나의 고향')\n",
    "type(one_or_more(soup_))"
   ]
  },
  {
   "cell_type": "markdown",
   "metadata": {},
   "source": [
    "## 영화 검색하니 하나짜리 영화"
   ]
  },
  {
   "cell_type": "code",
   "execution_count": 95,
   "metadata": {},
   "outputs": [],
   "source": [
    "# href 태그 찾기\n",
    "\n",
    "def href_tag(soup1):\n",
    "\n",
    "    tag_search_list1 = soup1.find(\"ul\", class_ = \"search_list_1\")\n",
    "    \n",
    "    if bool(tag_search_list1) == True:\n",
    "        tag_a = soup1.select('div#old_content > ul.search_list_1 > li > p.result_thumb > a')\n",
    "        global href\n",
    "        for i in tag_a:\n",
    "            href = i.attrs['href']\n",
    "    \n",
    "        return href\n",
    "    \n",
    "    else:\n",
    "        return \"없음\"\n",
    "    "
   ]
  },
  {
   "cell_type": "markdown",
   "metadata": {},
   "source": [
    "## 영화가 여러 개인 경우"
   ]
  },
  {
   "cell_type": "code",
   "execution_count": 12,
   "metadata": {},
   "outputs": [],
   "source": [
    "def tag_dt_title(soup1):\n",
    "\n",
    "    tag_search_list1 = soup1.find(\"ul\", class_ = \"search_list_1\")\n",
    "    \n",
    "    if bool(tag_search_list1) == True:\n",
    "        tag_li = soup1.find_all('li')\n",
    "        if bool(tag_li) is True:\n",
    "            for li in tag_li:\n",
    "                tag_dt = soup1.find_all('dt')\n",
    "   \n",
    "            return tag_dt\n",
    "    \n",
    "    else:\n",
    "        return \"없음\"\n",
    "        \n",
    "# h1 = soup.html.body.h1 "
   ]
  },
  {
   "cell_type": "code",
   "execution_count": 487,
   "metadata": {},
   "outputs": [],
   "source": [
    "def tag_dd_info(soup1):\n",
    "\n",
    "    tag_search_list1 = soup1.find(\"ul\", class_ = \"search_list_1\")\n",
    "    \n",
    "    if bool(tag_search_list1) == True:\n",
    "        tag_li = soup1.find_all('li')\n",
    "        if bool(tag_li) is True:\n",
    "            for li in tag_li:\n",
    "                tag_dd = soup1.find_all('dd', class_ = 'etc')\n",
    "                \n",
    "            return tag_dd\n",
    "    else:\n",
    "        return \"없음\""
   ]
  },
  {
   "cell_type": "code",
   "execution_count": 491,
   "metadata": {},
   "outputs": [],
   "source": [
    "def dt(dt_title):\n",
    "    titles = []\n",
    "    \n",
    "    if dt_title != \"없음\":\n",
    "        for dt in dt_title:\n",
    "            dt = str(dt.get_text())\n",
    "            if (dt.find('(') > -1):\n",
    "                dt = dt[:dt.find('(')-1]\n",
    "                titles.append(dt)\n",
    "\n",
    "        return titles\n",
    "    \n",
    "    else:\n",
    "        return \"없음\""
   ]
  },
  {
   "cell_type": "code",
   "execution_count": 490,
   "metadata": {},
   "outputs": [],
   "source": [
    "def dd(dd_info):\n",
    "    list_dd = []\n",
    "    list_even_split = []\n",
    "    \n",
    "    if dd_info != \"없음\":\n",
    "        for dd in dd_info:\n",
    "            dd = str(dd.get_text())\n",
    "            dd = dd.split('|')\n",
    "            list_dd.append(dd)\n",
    "\n",
    "        list_odd = list_dd[0::2]\n",
    "#     list_even = list_dd[1::2]\n",
    "    \n",
    "#     for i in range(len(list_even)):\n",
    "#         if len(list_even[i]) < 2:\n",
    "#             direc = list_even[i][0].replace(\"감독 : \", \"\")\n",
    "#             director = direc[0]\n",
    "#             tmp1 = [director]\n",
    "#             list_even_split.append(tmp1)\n",
    "#         else:\n",
    "#             direc = list_even[i][0].replace(\"감독 : \", \"\")\n",
    "#             act = list_even[i][1].replace(\"출연 : \", \"\")\n",
    "#             director = direc[0]\n",
    "#             actors = act[0]\n",
    "#             tmp2 = [director, actors]\n",
    "#             list_even_split.append(tmp2)  \n",
    "        return list_odd\n",
    "    else:\n",
    "        return \"없음\""
   ]
  },
  {
   "cell_type": "code",
   "execution_count": 493,
   "metadata": {},
   "outputs": [
    {
     "name": "stdout",
     "output_type": "stream",
     "text": [
      "없음\n"
     ]
    }
   ],
   "source": [
    "a = url_search('문명사회')\n",
    "\n",
    "dt_title = tag_dt_title(a)\n",
    "dd_info = tag_dd_info(a)\n",
    "\n",
    "titles = dt(dt_title)\n",
    "info= dd(dd_info)\n",
    "\n",
    "print(info)"
   ]
  },
  {
   "cell_type": "markdown",
   "metadata": {},
   "source": [
    "## 페이지 찾아들어가서 파싱"
   ]
  },
  {
   "cell_type": "code",
   "execution_count": 16,
   "metadata": {},
   "outputs": [],
   "source": [
    "# 해당 페이지 링크 가져오기\n",
    "\n",
    "def find_link(href):\n",
    "    \n",
    "    if href != \"없음\":\n",
    "        url2 = \"https://movie.naver.com{}\".format(href)\n",
    "        html2 = requests.get(url2)\n",
    "        soup2 = BeautifulSoup(html2.text, 'html.parser')\n",
    "    \n",
    "        return soup2\n",
    "    \n",
    "    else:\n",
    "        return \"없음\""
   ]
  },
  {
   "cell_type": "code",
   "execution_count": 17,
   "metadata": {},
   "outputs": [],
   "source": [
    "# dd 태그 찾기\n",
    "\n",
    "def dd_tag(soup2):\n",
    "    \n",
    "    if soup2 != \"없음\":\n",
    "        find_dir = soup2.find_all('dd')\n",
    "    \n",
    "        return find_dir\n",
    "    \n",
    "    else:\n",
    "        return \"없음\""
   ]
  },
  {
   "cell_type": "code",
   "execution_count": 18,
   "metadata": {},
   "outputs": [],
   "source": [
    "# director 찾기\n",
    "def find_director(find_dir):\n",
    "    \n",
    "    if find_dir != \"없음\":\n",
    "        words = []\n",
    "    \n",
    "        for i in find_dir:\n",
    "            i = i.get_text()\n",
    "            tmp = []\n",
    "            tmp.append(i)\n",
    "        \n",
    "            for w in tmp:\n",
    "                w = w.strip('\\n')\n",
    "                words.append(w)\n",
    "                director = words[0].split(',')[0]\n",
    "        \n",
    "            return director\n",
    "    \n",
    "    else:\n",
    "        return \"없음\"\n",
    "            "
   ]
  },
  {
   "cell_type": "markdown",
   "metadata": {},
   "source": [
    "## 감독값이 결측값인 데이터셋"
   ]
  },
  {
   "cell_type": "code",
   "execution_count": 230,
   "metadata": {},
   "outputs": [],
   "source": [
    "nan_director = pd.read_csv('data_ver5.csv')"
   ]
  },
  {
   "cell_type": "code",
   "execution_count": 231,
   "metadata": {
    "scrolled": true
   },
   "outputs": [
    {
     "data": {
      "text/plain": [
       "float"
      ]
     },
     "execution_count": 231,
     "metadata": {},
     "output_type": "execute_result"
    }
   ],
   "source": [
    "type(nan_director['개봉일'][0])"
   ]
  },
  {
   "cell_type": "code",
   "execution_count": 424,
   "metadata": {},
   "outputs": [
    {
     "data": {
      "text/html": [
       "<div>\n",
       "<style scoped>\n",
       "    .dataframe tbody tr th:only-of-type {\n",
       "        vertical-align: middle;\n",
       "    }\n",
       "\n",
       "    .dataframe tbody tr th {\n",
       "        vertical-align: top;\n",
       "    }\n",
       "\n",
       "    .dataframe thead th {\n",
       "        text-align: right;\n",
       "    }\n",
       "</style>\n",
       "<table border=\"1\" class=\"dataframe\">\n",
       "  <thead>\n",
       "    <tr style=\"text-align: right;\">\n",
       "      <th></th>\n",
       "      <th>영화명</th>\n",
       "      <th>개봉일</th>\n",
       "      <th>매출액</th>\n",
       "      <th>누적매출액</th>\n",
       "      <th>관객수</th>\n",
       "      <th>누적관객수</th>\n",
       "      <th>스크린수</th>\n",
       "      <th>상영횟수</th>\n",
       "      <th>대표국적</th>\n",
       "      <th>배급사</th>\n",
       "      <th>등급</th>\n",
       "      <th>장르</th>\n",
       "      <th>감독</th>\n",
       "      <th>배우</th>\n",
       "    </tr>\n",
       "  </thead>\n",
       "  <tbody>\n",
       "    <tr>\n",
       "      <th>3554</th>\n",
       "      <td>코마</td>\n",
       "      <td>2020-11-12</td>\n",
       "      <td>18739450</td>\n",
       "      <td>18739450</td>\n",
       "      <td>2563</td>\n",
       "      <td>2563</td>\n",
       "      <td>46</td>\n",
       "      <td>274</td>\n",
       "      <td>러시아</td>\n",
       "      <td>(주)까멜리아이엔티</td>\n",
       "      <td>15세이상관람가</td>\n",
       "      <td>SF</td>\n",
       "      <td>NaN</td>\n",
       "      <td>NaN</td>\n",
       "    </tr>\n",
       "  </tbody>\n",
       "</table>\n",
       "</div>"
      ],
      "text/plain": [
       "     영화명         개봉일       매출액     누적매출액   관객수  누적관객수  스크린수  상영횟수 대표국적  \\\n",
       "3554  코마  2020-11-12  18739450  18739450  2563   2563    46   274  러시아   \n",
       "\n",
       "             배급사        등급  장르  감독   배우  \n",
       "3554  (주)까멜리아이엔티  15세이상관람가  SF NaN  NaN  "
      ]
     },
     "execution_count": 424,
     "metadata": {},
     "output_type": "execute_result"
    }
   ],
   "source": [
    "nan_director[nan_director['영화명'] == '코마']"
   ]
  },
  {
   "cell_type": "code",
   "execution_count": 512,
   "metadata": {},
   "outputs": [
    {
     "data": {
      "text/plain": [
       "['E-19 바이러스',\n",
       " '겟 아웃 맨',\n",
       " '더 콜러',\n",
       " '디 아이즈',\n",
       " '디시젼: 리퀴데이션',\n",
       " '로스트: 직소 퍼즐',\n",
       " '마린: 배틀 엔젤',\n",
       " '배틀 트랩',\n",
       " '뱅크 잡: 리크루트',\n",
       " '블러드 스크림']"
      ]
     },
     "execution_count": 512,
     "metadata": {},
     "output_type": "execute_result"
    }
   ],
   "source": [
    "nan_movies = list(nan_director['영화명'])\n",
    "nan_movies[20:30]"
   ]
  },
  {
   "cell_type": "code",
   "execution_count": 322,
   "metadata": {},
   "outputs": [
    {
     "data": {
      "text/plain": [
       "3634"
      ]
     },
     "execution_count": 322,
     "metadata": {},
     "output_type": "execute_result"
    }
   ],
   "source": [
    "len(nan_director)"
   ]
  },
  {
   "cell_type": "code",
   "execution_count": 238,
   "metadata": {},
   "outputs": [
    {
     "name": "stdout",
     "output_type": "stream",
     "text": [
      "None\n"
     ]
    }
   ],
   "source": [
    "def year_(movie_name):\n",
    "    open_year = nan_director.loc[nan_director['영화명'] == movie_name]['개봉일']\n",
    "    year = list(open_year)[0]\n",
    "    if type(year) != float:\n",
    "        return year.split('-')[0]\n",
    "    else:\n",
    "        return None\n",
    "    \n",
    "\n",
    "    \n",
    "print(year_('나의 고향'))\n",
    "    "
   ]
  },
  {
   "cell_type": "code",
   "execution_count": 552,
   "metadata": {},
   "outputs": [],
   "source": [
    "def select_year(info):\n",
    "    years = []\n",
    "    for i in range(len(info)):\n",
    "        if len(info[i]) <= 4:\n",
    "            year = info[i][-1]\n",
    "            years.append(year)\n",
    "    return years"
   ]
  },
  {
   "cell_type": "code",
   "execution_count": 553,
   "metadata": {},
   "outputs": [],
   "source": [
    "def year_compare(searched_year, year_data):\n",
    "    for i in range(len(searched_year)):\n",
    "        if searched_year[i] == year_data:\n",
    "            return searched_year[i]\n"
   ]
  },
  {
   "cell_type": "markdown",
   "metadata": {},
   "source": [
    "# 실행함수"
   ]
  },
  {
   "cell_type": "code",
   "execution_count": 557,
   "metadata": {},
   "outputs": [],
   "source": [
    "def directors(movie_names):\n",
    "    \n",
    "    directors = []\n",
    "    \n",
    "    for movie_name in movie_names:\n",
    "        soup1 = url_search(movie_name)\n",
    "        num = one_or_more(soup1)\n",
    "        \n",
    "        if num == 1:\n",
    "            href = href_tag(soup1)\n",
    "            soup2 = find_link(href)\n",
    "            find_dir = dd_tag(soup2)\n",
    "            director1 = find_director(find_dir)\n",
    "            \n",
    "            directors.append(director1)\n",
    "            \n",
    "        elif num == \"없음\":\n",
    "            directors.append(\"없음\")\n",
    "        \n",
    "            \n",
    "        else:\n",
    "            dt_title = tag_dt_title(soup1)\n",
    "            dd_info = tag_dd_info(soup1)\n",
    "            \n",
    "            titles = dt(dt_title)\n",
    "            info = dd(dd_info)\n",
    "            \n",
    "            year_data = year_(movie_name)\n",
    "            searched_year = select_year(info)\n",
    "            \n",
    "            year = year_compare(searched_year, year_data)\n",
    "                    \n",
    "            if year == None:\n",
    "                directors.append(\"없음\")\n",
    "            else:\n",
    "                soup3 = url_search(movie_name + year)\n",
    "                href2 = href_tag(soup3)\n",
    "                soup4 = find_link(href2)\n",
    "                find_dir = dd_tag(soup4)\n",
    "                director2 = find_director(find_dir)\n",
    "                \n",
    "                directors.append(director2)        \n",
    "                        \n",
    "\n",
    "                        \n",
    "    return directors\n"
   ]
  },
  {
   "cell_type": "code",
   "execution_count": 558,
   "metadata": {},
   "outputs": [
    {
     "data": {
      "text/plain": [
       "['없음']"
      ]
     },
     "execution_count": 558,
     "metadata": {},
     "output_type": "execute_result"
    }
   ],
   "source": [
    "movie_names = ['나의 고향', '디스턴스', '문명사회', '바다의 법',\n",
    "           '비', '스노보드', '어디에나 있는 앨리스', '언더라이프',\n",
    "           '유행', '이야기']\n",
    "d = ['E-19 바이러스',\n",
    " '겟 아웃 맨',\n",
    " '더 콜러',\n",
    " '디 아이즈',\n",
    " '디시젼: 리퀴데이션',\n",
    " '로스트: 직소 퍼즐',\n",
    " '마린: 배틀 엔젤',\n",
    " '배틀 트랩',\n",
    " '뱅크 잡: 리크루트',\n",
    " '블러드 스크림']\n",
    "\n",
    "\n",
    "directors(['코마'])"
   ]
  },
  {
   "cell_type": "code",
   "execution_count": 288,
   "metadata": {},
   "outputs": [],
   "source": []
  },
  {
   "cell_type": "code",
   "execution_count": 348,
   "metadata": {},
   "outputs": [],
   "source": []
  },
  {
   "cell_type": "code",
   "execution_count": 556,
   "metadata": {
    "scrolled": true
   },
   "outputs": [],
   "source": [
    "# directors(['비'])\n",
    "\n",
    "# ['나의 고향',\n",
    "#  '디스턴스',\n",
    "#  '문명사회',\n",
    "#  '바다의 법',\n",
    "#  '비',\n",
    "#  '스노보드',\n",
    "#  '어디에나 있는 앨리스',\n",
    "#  '언더라이프',\n",
    "#  '유행',\n",
    "#  '이야기']"
   ]
  },
  {
   "cell_type": "code",
   "execution_count": null,
   "metadata": {},
   "outputs": [],
   "source": []
  }
 ],
 "metadata": {
  "kernelspec": {
   "display_name": "Python 3",
   "language": "python",
   "name": "python3"
  },
  "language_info": {
   "codemirror_mode": {
    "name": "ipython",
    "version": 3
   },
   "file_extension": ".py",
   "mimetype": "text/x-python",
   "name": "python",
   "nbconvert_exporter": "python",
   "pygments_lexer": "ipython3",
   "version": "3.7.6"
  }
 },
 "nbformat": 4,
 "nbformat_minor": 4
}
