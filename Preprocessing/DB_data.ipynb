{
 "cells": [
  {
   "cell_type": "code",
   "execution_count": 1,
   "metadata": {},
   "outputs": [],
   "source": [
    "import pandas as pd"
   ]
  },
  {
   "cell_type": "code",
   "execution_count": 6,
   "metadata": {},
   "outputs": [],
   "source": [
    "df4 = pd.read_csv(\"중간저장4.csv\", encoding = \"utf-8\") # 전처리 완료\n",
    "df1 = pd.read_csv(\"중간저장.csv\", encoding = \"utf-8\", index_col = False)\n",
    "\n",
    "db = df4\n",
    "\n",
    "db['배우'] = df1['배우']\n",
    "db['감독'] = df1['감독']"
   ]
  },
  {
   "cell_type": "code",
   "execution_count": 14,
   "metadata": {},
   "outputs": [
    {
     "data": {
      "text/plain": [
       "Index(['영화명', '개봉일', '매출액', '누적매출액', '관객수', '누적관객수', '스크린수', '상영횟수', '대표국적',\n",
       "       '배급사', '등급', '장르', '감독', '배우'],\n",
       "      dtype='object')"
      ]
     },
     "execution_count": 14,
     "metadata": {},
     "output_type": "execute_result"
    }
   ],
   "source": [
    "db.columns['영화명', '개봉일', '누적관객수', '배급사', '감독', '배우']"
   ]
  },
  {
   "cell_type": "code",
   "execution_count": 16,
   "metadata": {},
   "outputs": [],
   "source": [
    "db = db[['영화명', '개봉일', '누적관객수', '배급사', '감독', '배우']]"
   ]
  },
  {
   "cell_type": "code",
   "execution_count": 32,
   "metadata": {},
   "outputs": [
    {
     "data": {
      "text/html": [
       "<div>\n",
       "<style scoped>\n",
       "    .dataframe tbody tr th:only-of-type {\n",
       "        vertical-align: middle;\n",
       "    }\n",
       "\n",
       "    .dataframe tbody tr th {\n",
       "        vertical-align: top;\n",
       "    }\n",
       "\n",
       "    .dataframe thead th {\n",
       "        text-align: right;\n",
       "    }\n",
       "</style>\n",
       "<table border=\"1\" class=\"dataframe\">\n",
       "  <thead>\n",
       "    <tr style=\"text-align: right;\">\n",
       "      <th></th>\n",
       "      <th>영화명</th>\n",
       "      <th>개봉일</th>\n",
       "      <th>누적관객수</th>\n",
       "      <th>배급사</th>\n",
       "      <th>감독</th>\n",
       "      <th>배우</th>\n",
       "    </tr>\n",
       "  </thead>\n",
       "  <tbody>\n",
       "    <tr>\n",
       "      <th>0</th>\n",
       "      <td>416 프로젝트 \"공동의 기억: 트라우마\"</td>\n",
       "      <td>1900-01-01</td>\n",
       "      <td>437</td>\n",
       "      <td>0</td>\n",
       "      <td>416연대미디어위원회</td>\n",
       "      <td>0</td>\n",
       "    </tr>\n",
       "    <tr>\n",
       "      <th>1</th>\n",
       "      <td>미씨카: 더 네크로맨서</td>\n",
       "      <td>2017-11-02</td>\n",
       "      <td>60</td>\n",
       "      <td>(주)제이에이와이이엔터테인먼트</td>\n",
       "      <td>A.토드스미스</td>\n",
       "      <td>애덤존슨,로버트제인,케빈소르보</td>\n",
       "    </tr>\n",
       "    <tr>\n",
       "      <th>2</th>\n",
       "      <td>월드 워 핵전쟁의 서막</td>\n",
       "      <td>2019-03-07</td>\n",
       "      <td>17</td>\n",
       "      <td>주식회사풍경소리</td>\n",
       "      <td>A.K.스트롬</td>\n",
       "      <td>모건브래들리,그레이엄빈센트,캠벨루셀</td>\n",
       "    </tr>\n",
       "    <tr>\n",
       "      <th>3</th>\n",
       "      <td>울프라이징</td>\n",
       "      <td>2016-11-17</td>\n",
       "      <td>60</td>\n",
       "      <td>주식회사루믹스미디어</td>\n",
       "      <td>BC퍼트니</td>\n",
       "      <td>빌오버스트주니어</td>\n",
       "    </tr>\n",
       "    <tr>\n",
       "      <th>4</th>\n",
       "      <td>제3의앵글 : 형형색색대만전</td>\n",
       "      <td>1900-01-01</td>\n",
       "      <td>305</td>\n",
       "      <td>0</td>\n",
       "      <td>BITO</td>\n",
       "      <td>0</td>\n",
       "    </tr>\n",
       "    <tr>\n",
       "      <th>5</th>\n",
       "      <td>연쇄살인마의 이중생활</td>\n",
       "      <td>2020-06-18</td>\n",
       "      <td>7</td>\n",
       "      <td>주식회사마운틴픽쳐스</td>\n",
       "      <td>C.마틴페레라</td>\n",
       "      <td>안나알렌,나초프레스네다,메르세데스카스트로</td>\n",
       "    </tr>\n",
       "    <tr>\n",
       "      <th>6</th>\n",
       "      <td>몬스터 아일랜드</td>\n",
       "      <td>2017-10-27</td>\n",
       "      <td>1</td>\n",
       "      <td>주식회사레드아이스</td>\n",
       "      <td>C.블레이크에번든</td>\n",
       "      <td>존W.바우어스</td>\n",
       "    </tr>\n",
       "    <tr>\n",
       "      <th>7</th>\n",
       "      <td>잃어버린 세계를 찾아 2015</td>\n",
       "      <td>2015-12-03</td>\n",
       "      <td>1</td>\n",
       "      <td>(유)조이앤컨텐츠그룹</td>\n",
       "      <td>C.토마스하우웰</td>\n",
       "      <td>C.토마스하우웰,티모시바톰즈</td>\n",
       "    </tr>\n",
       "    <tr>\n",
       "      <th>8</th>\n",
       "      <td>과부: 탐스러운 육체</td>\n",
       "      <td>2016-11-19</td>\n",
       "      <td>1</td>\n",
       "      <td>(주)영진크리에이티브</td>\n",
       "      <td>C.나가후쿠</td>\n",
       "      <td>타치바나케이코,이치죠리노</td>\n",
       "    </tr>\n",
       "    <tr>\n",
       "      <th>9</th>\n",
       "      <td>페이스트리의 왕</td>\n",
       "      <td>1900-01-01</td>\n",
       "      <td>107</td>\n",
       "      <td>0</td>\n",
       "      <td>D.A.페네베이커,크리스헤지더스</td>\n",
       "      <td>0</td>\n",
       "    </tr>\n",
       "  </tbody>\n",
       "</table>\n",
       "</div>"
      ],
      "text/plain": [
       "                       영화명         개봉일  누적관객수               배급사  \\\n",
       "0  416 프로젝트 \"공동의 기억: 트라우마\"  1900-01-01    437                 0   \n",
       "1             미씨카: 더 네크로맨서  2017-11-02     60  (주)제이에이와이이엔터테인먼트   \n",
       "2             월드 워 핵전쟁의 서막  2019-03-07     17          주식회사풍경소리   \n",
       "3                    울프라이징  2016-11-17     60        주식회사루믹스미디어   \n",
       "4          제3의앵글 : 형형색색대만전  1900-01-01    305                 0   \n",
       "5              연쇄살인마의 이중생활  2020-06-18      7        주식회사마운틴픽쳐스   \n",
       "6                 몬스터 아일랜드  2017-10-27      1         주식회사레드아이스   \n",
       "7         잃어버린 세계를 찾아 2015  2015-12-03      1       (유)조이앤컨텐츠그룹   \n",
       "8              과부: 탐스러운 육체  2016-11-19      1       (주)영진크리에이티브   \n",
       "9                 페이스트리의 왕  1900-01-01    107                 0   \n",
       "\n",
       "                  감독                      배우  \n",
       "0        416연대미디어위원회                       0  \n",
       "1            A.토드스미스        애덤존슨,로버트제인,케빈소르보  \n",
       "2            A.K.스트롬     모건브래들리,그레이엄빈센트,캠벨루셀  \n",
       "3              BC퍼트니                빌오버스트주니어  \n",
       "4               BITO                       0  \n",
       "5            C.마틴페레라  안나알렌,나초프레스네다,메르세데스카스트로  \n",
       "6          C.블레이크에번든                 존W.바우어스  \n",
       "7           C.토마스하우웰         C.토마스하우웰,티모시바톰즈  \n",
       "8             C.나가후쿠           타치바나케이코,이치죠리노  \n",
       "9  D.A.페네베이커,크리스헤지더스                       0  "
      ]
     },
     "execution_count": 32,
     "metadata": {},
     "output_type": "execute_result"
    }
   ],
   "source": [
    "db.head(10)"
   ]
  },
  {
   "cell_type": "code",
   "execution_count": 9,
   "metadata": {},
   "outputs": [
    {
     "name": "stderr",
     "output_type": "stream",
     "text": [
      "<ipython-input-9-37a2072e3c0d>:8: SettingWithCopyWarning: \n",
      "A value is trying to be set on a copy of a slice from a DataFrame\n",
      "\n",
      "See the caveats in the documentation: https://pandas.pydata.org/pandas-docs/stable/user_guide/indexing.html#returning-a-view-versus-a-copy\n",
      "  db[\"배우\"][i] = \"\".join(List)\n"
     ]
    }
   ],
   "source": [
    "# 배우 공백 제거\n",
    "\n",
    "for i in range(len(db[\"배우\"])):\n",
    "    if type(db[\"배우\"][i]) == float:\n",
    "        db[\"배우\"][i] = 0\n",
    "    else:\n",
    "        List = db[\"배우\"][i].split(\" \")\n",
    "        db[\"배우\"][i] = \"\".join(List)"
   ]
  },
  {
   "cell_type": "code",
   "execution_count": 10,
   "metadata": {},
   "outputs": [
    {
     "name": "stderr",
     "output_type": "stream",
     "text": [
      "<ipython-input-10-f607d7e664db>:8: SettingWithCopyWarning: \n",
      "A value is trying to be set on a copy of a slice from a DataFrame\n",
      "\n",
      "See the caveats in the documentation: https://pandas.pydata.org/pandas-docs/stable/user_guide/indexing.html#returning-a-view-versus-a-copy\n",
      "  db[\"감독\"][i] = \"\".join(List)\n"
     ]
    }
   ],
   "source": [
    "# 감독 공백 제거\n",
    "\n",
    "for i in range(len(db[\"감독\"])):\n",
    "    if type(db[\"감독\"][i]) == float:\n",
    "        db[\"감독\"][i] = 0\n",
    "    else:\n",
    "        List = db[\"감독\"][i].split(\" \")\n",
    "        db[\"감독\"][i] = \"\".join(List)"
   ]
  },
  {
   "cell_type": "code",
   "execution_count": 33,
   "metadata": {},
   "outputs": [],
   "source": [
    "db.to_csv(\"DB_data.csv\", index = False, encoding = 'utf-8-sig', sep = ',')"
   ]
  },
  {
   "cell_type": "code",
   "execution_count": null,
   "metadata": {},
   "outputs": [],
   "source": []
  }
 ],
 "metadata": {
  "kernelspec": {
   "display_name": "Python 3",
   "language": "python",
   "name": "python3"
  },
  "language_info": {
   "codemirror_mode": {
    "name": "ipython",
    "version": 3
   },
   "file_extension": ".py",
   "mimetype": "text/x-python",
   "name": "python",
   "nbconvert_exporter": "python",
   "pygments_lexer": "ipython3",
   "version": "3.8.5"
  }
 },
 "nbformat": 4,
 "nbformat_minor": 4
}
