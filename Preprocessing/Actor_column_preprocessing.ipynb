{
 "cells": [
  {
   "cell_type": "code",
   "execution_count": null,
   "metadata": {},
   "outputs": [],
   "source": [
    "import numpy as np\n",
    "import pandas as pd\n",
    "from datetime import datetime\n",
    "from dateutil.relativedelta import relativedelta\n",
    "from bs4 import BeautifulSoup\n",
    "import urllib.request\n",
    "import re\n",
    "import time\n",
    "import progressbar"
   ]
  },
  {
   "cell_type": "code",
   "execution_count": 17,
   "metadata": {},
   "outputs": [],
   "source": [
    "db = pd.read_csv(\"../Data/train/DB_data.csv\",thousands = ',')\n"
   ]
  },
  {
   "cell_type": "code",
   "execution_count": 18,
   "metadata": {},
   "outputs": [],
   "source": [
    "df = pd.read_csv(\"../Data/train/중간저장4.csv\",thousands = ',')"
   ]
  },
  {
   "cell_type": "code",
   "execution_count": 640,
   "metadata": {
    "scrolled": false
   },
   "outputs": [
    {
     "name": "stderr",
     "output_type": "stream",
     "text": [
      "<ipython-input-640-aa3c5fd9be92>:10: SettingWithCopyWarning: \n",
      "A value is trying to be set on a copy of a slice from a DataFrame\n",
      "\n",
      "See the caveats in the documentation: https://pandas.pydata.org/pandas-docs/stable/user_guide/indexing.html#returning-a-view-versus-a-copy\n",
      "  data[\"개봉일\"][i]=  pd.to_datetime(data[\"개봉일\"][i], format=\"%Y-%m-%d\")\n"
     ]
    }
   ],
   "source": [
    "#날짜형식으로 변환\n",
    "for data in [df,db]:\n",
    "    index = []\n",
    "    for i in range(len(data[\"개봉일\"])):\n",
    "        p= re.compile(\"\\d\\d\\d\\d-\\d\\d-\\d\\d\")\n",
    "        m= bool(p.match(str(data[\"개봉일\"][i])))\n",
    "        if m == False:\n",
    "            index.append(i)\n",
    "        else:\n",
    "            data[\"개봉일\"][i]=  pd.to_datetime(data[\"개봉일\"][i], format=\"%Y-%m-%d\")"
   ]
  },
  {
   "cell_type": "code",
   "execution_count": 305,
   "metadata": {
    "collapsed": true
   },
   "outputs": [
    {
     "ename": "TypeError",
     "evalue": "descriptor 'strftime' for 'datetime.date' objects doesn't apply to a 'str' object",
     "output_type": "error",
     "traceback": [
      "\u001b[1;31m---------------------------------------------------------------------------\u001b[0m",
      "\u001b[1;31mTypeError\u001b[0m                                 Traceback (most recent call last)",
      "\u001b[1;32m<ipython-input-305-5f3788619078>\u001b[0m in \u001b[0;36m<module>\u001b[1;34m\u001b[0m\n\u001b[1;32m----> 1\u001b[1;33m \u001b[0mdatetime\u001b[0m\u001b[1;33m.\u001b[0m\u001b[0mstrftime\u001b[0m\u001b[1;33m(\u001b[0m\u001b[1;34m\"1900-01-01\"\u001b[0m\u001b[1;33m,\u001b[0m\u001b[1;34m'%Y-%m-%d'\u001b[0m\u001b[1;33m)\u001b[0m\u001b[1;33m\u001b[0m\u001b[1;33m\u001b[0m\u001b[0m\n\u001b[0m",
      "\u001b[1;31mTypeError\u001b[0m: descriptor 'strftime' for 'datetime.date' objects doesn't apply to a 'str' object"
     ]
    }
   ],
   "source": [
    "datetime.strftime(\"1900-01-01\",'%Y-%m-%d')"
   ]
  },
  {
   "cell_type": "code",
   "execution_count": 298,
   "metadata": {
    "scrolled": true
   },
   "outputs": [
    {
     "name": "stderr",
     "output_type": "stream",
     "text": [
      "<ipython-input-298-da97912519b6>:2: SettingWithCopyWarning: \n",
      "A value is trying to be set on a copy of a slice from a DataFrame.\n",
      "Try using .loc[row_indexer,col_indexer] = value instead\n",
      "\n",
      "See the caveats in the documentation: https://pandas.pydata.org/pandas-docs/stable/user_guide/indexing.html#returning-a-view-versus-a-copy\n",
      "  df2[[\"배우1\",\"배우2\",\"배우3\"]]=0\n",
      "C:\\Users\\user\\anaconda3\\lib\\site-packages\\pandas\\core\\indexing.py:1765: SettingWithCopyWarning: \n",
      "A value is trying to be set on a copy of a slice from a DataFrame.\n",
      "Try using .loc[row_indexer,col_indexer] = value instead\n",
      "\n",
      "See the caveats in the documentation: https://pandas.pydata.org/pandas-docs/stable/user_guide/indexing.html#returning-a-view-versus-a-copy\n",
      "  isetter(loc, value)\n",
      "<ipython-input-298-da97912519b6>:6: SettingWithCopyWarning:                   |\n",
      "A value is trying to be set on a copy of a slice from a DataFrame\n",
      "\n",
      "See the caveats in the documentation: https://pandas.pydata.org/pandas-docs/stable/user_guide/indexing.html#returning-a-view-versus-a-copy\n",
      "  df2[\"배우1\"][nu] = 0\n",
      "C:\\Users\\user\\anaconda3\\lib\\site-packages\\IPython\\core\\interactiveshell.py:3418: SettingWithCopyWarning: \n",
      "A value is trying to be set on a copy of a slice from a DataFrame\n",
      "\n",
      "See the caveats in the documentation: https://pandas.pydata.org/pandas-docs/stable/user_guide/indexing.html#returning-a-view-versus-a-copy\n",
      "  exec(code_obj, self.user_global_ns, self.user_ns)\n",
      "<ipython-input-298-da97912519b6>:20: SettingWithCopyWarning:                  |\n",
      "A value is trying to be set on a copy of a slice from a DataFrame\n",
      "\n",
      "See the caveats in the documentation: https://pandas.pydata.org/pandas-docs/stable/user_guide/indexing.html#returning-a-view-versus-a-copy\n",
      "  df2[\"배우\"+str(numb+1)][nu] = audi\n",
      "100% |########################################################################|\n"
     ]
    }
   ],
   "source": [
    "bar = progressbar.ProgressBar()\n",
    "df[[\"배우1\",\"배우2\",\"배우3\"]]=0\n",
    "\n",
    "for nu in bar(range(len(df[\"배우\"]))):\n",
    "    if df2[\"배우\"][nu].strip(\"[]\").split(\",\")[0].strip(\"'\") =='0':\n",
    "        df2[\"배우1\"][nu] = 0 \n",
    "        \n",
    "    else:\n",
    "        \n",
    "        act_list = df2.iloc[nu][\"배우\"].strip(\"[]\").split(\", \")\n",
    "        for numb in range(len(act_list)):\n",
    "            count=0\n",
    "            audi = 0\n",
    "            for index in range(len(db[\"배우\"])):  \n",
    "                if act_list[numb].strip(\"'\") in db[\"배우\"][index] and (df2.iloc[nu][\"개봉일\"] > db[\"개봉일\"][index]) & (df2.iloc[nu][\"개봉일\"]- relativedelta(years=3) < db[\"개봉일\"][index]):\n",
    "                        count+=1\n",
    "                        audi += db[\"누적관객수\"][index]\n",
    "            if count != 0:\n",
    "                audi = audi/count\n",
    "                df2[\"배우\"+str(numb+1)][nu] = audi"
   ]
  },
  {
   "cell_type": "code",
   "execution_count": null,
   "metadata": {},
   "outputs": [],
   "source": [
    "for num in range(len(df[\"배우\"])):\n",
    "    #if df2[\"배우\"][num].strip(\"[]\").split(\",\")[0].strip(\"'\") =='0':\n",
    "        #df2[\"배우1\"][num] = 0\n",
    "    else:\n",
    "        date_tf = (df.iloc[num][\"개봉일\"] > db[\"개봉일\"]) & (df.iloc[num][\"개봉일\"]- relativedelta(years=3) < db[\"개봉일\"])"
   ]
  },
  {
   "cell_type": "code",
   "execution_count": 300,
   "metadata": {},
   "outputs": [
    {
     "name": "stdout",
     "output_type": "stream",
     "text": [
      "10478\n"
     ]
    }
   ],
   "source": [
    "for i in range(len(db[\"배우\"])):\n",
    "    if \"라다미첼\" in db[\"배우\"][i] and (df2.iloc[12][\"개봉일\"] > db[\"개봉일\"][i]) & (df2.iloc[12][\"개봉일\"]- relativedelta(years=3) < db[\"개봉일\"][i]):\n",
    "        print(i)"
   ]
  }
 ],
 "metadata": {
  "kernelspec": {
   "display_name": "Python 3",
   "language": "python",
   "name": "python3"
  },
  "language_info": {
   "codemirror_mode": {
    "name": "ipython",
    "version": 3
   },
   "file_extension": ".py",
   "mimetype": "text/x-python",
   "name": "python",
   "nbconvert_exporter": "python",
   "pygments_lexer": "ipython3",
   "version": "3.8.5"
  }
 },
 "nbformat": 4,
 "nbformat_minor": 4
}
