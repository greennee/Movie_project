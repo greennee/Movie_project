{
 "cells": [
  {
   "cell_type": "markdown",
   "metadata": {},
   "source": [
    "## 마이너스값 처리"
   ]
  },
  {
   "cell_type": "code",
   "execution_count": 252,
   "metadata": {},
   "outputs": [],
   "source": [
    "minus_index = df[df[\"매출액\"] <0].index\n",
    "minus_val = df.iloc[minus_index][\"매출액\"].tolist()\n",
    "plus_val = abs(df.iloc[minus_index][\"매출액\"]).tolist()"
   ]
  },
  {
   "cell_type": "code",
   "execution_count": 253,
   "metadata": {},
   "outputs": [],
   "source": [
    "df[\"매출액\"].replace(minus_val,plus_val, inplace=True)"
   ]
  },
  {
   "cell_type": "markdown",
   "metadata": {},
   "source": [
    "### 대표국적 처리"
   ]
  },
  {
   "cell_type": "code",
   "execution_count": 193,
   "metadata": {},
   "outputs": [],
   "source": [
    "nation = [\"미국\", \"한국\", \"일본\", \"프랑스\", \"영국\", \"독일\", \"중국\", \"이탈리아\", \"캐나다\", \"스페인\"]\n",
    "\n",
    "for i in range(len(df)):\n",
    "    if df.iloc[i][\"대표국적\"] not in nation:\n",
    "        df[\"대표국적\"].replace(df.iloc[i][\"대표국적\"],\"기타\",inplace=True)"
   ]
  }
 ],
 "metadata": {
  "kernelspec": {
   "display_name": "Python 3",
   "language": "python",
   "name": "python3"
  },
  "language_info": {
   "codemirror_mode": {
    "name": "ipython",
    "version": 3
   },
   "file_extension": ".py",
   "mimetype": "text/x-python",
   "name": "python",
   "nbconvert_exporter": "python",
   "pygments_lexer": "ipython3",
   "version": "3.8.5"
  }
 },
 "nbformat": 4,
 "nbformat_minor": 4
}
